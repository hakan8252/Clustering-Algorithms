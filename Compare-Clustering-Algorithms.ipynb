{
 "cells": [
  {
   "cell_type": "code",
   "execution_count": 17,
   "metadata": {},
   "outputs": [],
   "source": [
    "import numpy as np\n",
    "import pandas as pd \n",
    "\n",
    "import warnings\n",
    "warnings.filterwarnings('ignore')\n",
    "import plotly.graph_objects as go\n",
    "import plotly.express as px\n",
    "import seaborn as sns\n",
    "import matplotlib.pyplot as plt\n",
    "from plotly.subplots import make_subplots\n",
    "\n",
    "from sklearn.preprocessing import StandardScaler\n",
    "\n",
    "import hdbscan\n",
    "from hdbscan.validity import validity_index\n",
    "from sklearn.mixture import GaussianMixture\n",
    "from sklearn.metrics import davies_bouldin_score"
   ]
  },
  {
   "cell_type": "code",
   "execution_count": null,
   "metadata": {},
   "outputs": [],
   "source": [
    "events = pd.read_excel('events.xlsx', sheet_name=3)"
   ]
  },
  {
   "cell_type": "code",
   "execution_count": 4,
   "metadata": {},
   "outputs": [
    {
     "name": "stdout",
     "output_type": "stream",
     "text": [
      "<class 'pandas.core.frame.DataFrame'>\n",
      "RangeIndex: 10000 entries, 0 to 9999\n",
      "Data columns (total 10 columns):\n",
      " #   Column      Non-Null Count  Dtype         \n",
      "---  ------      --------------  -----         \n",
      " 0   EVENT_DATE  10000 non-null  datetime64[ns]\n",
      " 1   EVENT_NAME  10000 non-null  object        \n",
      " 2   USER_ID     10000 non-null  int64         \n",
      " 3   CHAPTER     4000 non-null   float64       \n",
      " 4   RESULT      2000 non-null   float64       \n",
      " 5   REASON      2614 non-null   object        \n",
      " 6   SOURCE      1386 non-null   object        \n",
      " 7   AMOUNT      1998 non-null   float64       \n",
      " 8   GAME_MODE   3975 non-null   object        \n",
      " 9   NAME        2000 non-null   object        \n",
      "dtypes: datetime64[ns](1), float64(3), int64(1), object(5)\n",
      "memory usage: 781.4+ KB\n"
     ]
    }
   ],
   "source": [
    "events.info()"
   ]
  },
  {
   "cell_type": "code",
   "execution_count": 5,
   "metadata": {},
   "outputs": [
    {
     "data": {
      "text/html": [
       "<div>\n",
       "<style scoped>\n",
       "    .dataframe tbody tr th:only-of-type {\n",
       "        vertical-align: middle;\n",
       "    }\n",
       "\n",
       "    .dataframe tbody tr th {\n",
       "        vertical-align: top;\n",
       "    }\n",
       "\n",
       "    .dataframe thead th {\n",
       "        text-align: right;\n",
       "    }\n",
       "</style>\n",
       "<table border=\"1\" class=\"dataframe\">\n",
       "  <thead>\n",
       "    <tr style=\"text-align: right;\">\n",
       "      <th></th>\n",
       "      <th>EVENT_DATE</th>\n",
       "      <th>EVENT_NAME</th>\n",
       "      <th>USER_ID</th>\n",
       "      <th>CHAPTER</th>\n",
       "      <th>RESULT</th>\n",
       "      <th>REASON</th>\n",
       "      <th>SOURCE</th>\n",
       "      <th>AMOUNT</th>\n",
       "      <th>GAME_MODE</th>\n",
       "      <th>NAME</th>\n",
       "    </tr>\n",
       "  </thead>\n",
       "  <tbody>\n",
       "    <tr>\n",
       "      <th>0</th>\n",
       "      <td>2023-09-03</td>\n",
       "      <td>CurrencyEarned</td>\n",
       "      <td>247259373</td>\n",
       "      <td>NaN</td>\n",
       "      <td>NaN</td>\n",
       "      <td>NaN</td>\n",
       "      <td>DailyFree</td>\n",
       "      <td>30.0</td>\n",
       "      <td>NaN</td>\n",
       "      <td>NaN</td>\n",
       "    </tr>\n",
       "    <tr>\n",
       "      <th>1</th>\n",
       "      <td>2023-09-03</td>\n",
       "      <td>ChapterProgress</td>\n",
       "      <td>298339933</td>\n",
       "      <td>3.0</td>\n",
       "      <td>0.0</td>\n",
       "      <td>NaN</td>\n",
       "      <td>NaN</td>\n",
       "      <td>NaN</td>\n",
       "      <td>Normal</td>\n",
       "      <td>NaN</td>\n",
       "    </tr>\n",
       "    <tr>\n",
       "      <th>2</th>\n",
       "      <td>2023-09-05</td>\n",
       "      <td>CurrencyEarned</td>\n",
       "      <td>246407236</td>\n",
       "      <td>NaN</td>\n",
       "      <td>NaN</td>\n",
       "      <td>NaN</td>\n",
       "      <td>Achievements</td>\n",
       "      <td>10.0</td>\n",
       "      <td>NaN</td>\n",
       "      <td>NaN</td>\n",
       "    </tr>\n",
       "    <tr>\n",
       "      <th>3</th>\n",
       "      <td>2023-09-05</td>\n",
       "      <td>ChapterStarted</td>\n",
       "      <td>297123727</td>\n",
       "      <td>18.0</td>\n",
       "      <td>NaN</td>\n",
       "      <td>NaN</td>\n",
       "      <td>NaN</td>\n",
       "      <td>NaN</td>\n",
       "      <td>Normal</td>\n",
       "      <td>NaN</td>\n",
       "    </tr>\n",
       "    <tr>\n",
       "      <th>4</th>\n",
       "      <td>2023-09-06</td>\n",
       "      <td>ChapterStarted</td>\n",
       "      <td>296425420</td>\n",
       "      <td>24.0</td>\n",
       "      <td>NaN</td>\n",
       "      <td>NaN</td>\n",
       "      <td>NaN</td>\n",
       "      <td>NaN</td>\n",
       "      <td>Hard</td>\n",
       "      <td>NaN</td>\n",
       "    </tr>\n",
       "    <tr>\n",
       "      <th>5</th>\n",
       "      <td>2023-09-06</td>\n",
       "      <td>InAppPurchaseCompleted</td>\n",
       "      <td>279337211</td>\n",
       "      <td>NaN</td>\n",
       "      <td>NaN</td>\n",
       "      <td>NaN</td>\n",
       "      <td>NaN</td>\n",
       "      <td>NaN</td>\n",
       "      <td>NaN</td>\n",
       "      <td>Gem_Tier3</td>\n",
       "    </tr>\n",
       "    <tr>\n",
       "      <th>6</th>\n",
       "      <td>2023-09-03</td>\n",
       "      <td>ChapterProgress</td>\n",
       "      <td>298331945</td>\n",
       "      <td>6.0</td>\n",
       "      <td>0.0</td>\n",
       "      <td>NaN</td>\n",
       "      <td>NaN</td>\n",
       "      <td>NaN</td>\n",
       "      <td>Normal</td>\n",
       "      <td>NaN</td>\n",
       "    </tr>\n",
       "    <tr>\n",
       "      <th>7</th>\n",
       "      <td>2023-09-05</td>\n",
       "      <td>ChapterStarted</td>\n",
       "      <td>288198480</td>\n",
       "      <td>45.0</td>\n",
       "      <td>NaN</td>\n",
       "      <td>NaN</td>\n",
       "      <td>NaN</td>\n",
       "      <td>NaN</td>\n",
       "      <td>Normal</td>\n",
       "      <td>NaN</td>\n",
       "    </tr>\n",
       "    <tr>\n",
       "      <th>8</th>\n",
       "      <td>2023-09-03</td>\n",
       "      <td>CurrencyEarned</td>\n",
       "      <td>250987687</td>\n",
       "      <td>NaN</td>\n",
       "      <td>NaN</td>\n",
       "      <td>NaN</td>\n",
       "      <td>ChapterRewards</td>\n",
       "      <td>20.0</td>\n",
       "      <td>NaN</td>\n",
       "      <td>NaN</td>\n",
       "    </tr>\n",
       "    <tr>\n",
       "      <th>9</th>\n",
       "      <td>2023-09-03</td>\n",
       "      <td>CurrencyEarned</td>\n",
       "      <td>244507802</td>\n",
       "      <td>NaN</td>\n",
       "      <td>NaN</td>\n",
       "      <td>NaN</td>\n",
       "      <td>GrowthFund</td>\n",
       "      <td>150.0</td>\n",
       "      <td>NaN</td>\n",
       "      <td>NaN</td>\n",
       "    </tr>\n",
       "    <tr>\n",
       "      <th>10</th>\n",
       "      <td>2023-09-02</td>\n",
       "      <td>InAppPurchaseCompleted</td>\n",
       "      <td>277412625</td>\n",
       "      <td>NaN</td>\n",
       "      <td>NaN</td>\n",
       "      <td>NaN</td>\n",
       "      <td>NaN</td>\n",
       "      <td>NaN</td>\n",
       "      <td>NaN</td>\n",
       "      <td>Gem_Tier3</td>\n",
       "    </tr>\n",
       "    <tr>\n",
       "      <th>11</th>\n",
       "      <td>2023-09-05</td>\n",
       "      <td>ChapterStarted</td>\n",
       "      <td>298183340</td>\n",
       "      <td>3.0</td>\n",
       "      <td>NaN</td>\n",
       "      <td>NaN</td>\n",
       "      <td>NaN</td>\n",
       "      <td>NaN</td>\n",
       "      <td>Hard</td>\n",
       "      <td>NaN</td>\n",
       "    </tr>\n",
       "    <tr>\n",
       "      <th>12</th>\n",
       "      <td>2023-09-02</td>\n",
       "      <td>ChapterProgress</td>\n",
       "      <td>297796195</td>\n",
       "      <td>4.0</td>\n",
       "      <td>0.0</td>\n",
       "      <td>NaN</td>\n",
       "      <td>NaN</td>\n",
       "      <td>NaN</td>\n",
       "      <td>Normal</td>\n",
       "      <td>NaN</td>\n",
       "    </tr>\n",
       "    <tr>\n",
       "      <th>13</th>\n",
       "      <td>2023-09-04</td>\n",
       "      <td>CurrencySpent</td>\n",
       "      <td>248876700</td>\n",
       "      <td>NaN</td>\n",
       "      <td>NaN</td>\n",
       "      <td>RoyaleChestGold</td>\n",
       "      <td>NaN</td>\n",
       "      <td>96.0</td>\n",
       "      <td>NaN</td>\n",
       "      <td>NaN</td>\n",
       "    </tr>\n",
       "    <tr>\n",
       "      <th>14</th>\n",
       "      <td>2023-09-03</td>\n",
       "      <td>CurrencySpent</td>\n",
       "      <td>248876700</td>\n",
       "      <td>NaN</td>\n",
       "      <td>NaN</td>\n",
       "      <td>Revive</td>\n",
       "      <td>NaN</td>\n",
       "      <td>40.0</td>\n",
       "      <td>NaN</td>\n",
       "      <td>NaN</td>\n",
       "    </tr>\n",
       "    <tr>\n",
       "      <th>15</th>\n",
       "      <td>2023-09-06</td>\n",
       "      <td>InAppPurchaseCompleted</td>\n",
       "      <td>273620084</td>\n",
       "      <td>NaN</td>\n",
       "      <td>NaN</td>\n",
       "      <td>NaN</td>\n",
       "      <td>NaN</td>\n",
       "      <td>NaN</td>\n",
       "      <td>NaN</td>\n",
       "      <td>ThreeDaysPack_Tier1</td>\n",
       "    </tr>\n",
       "    <tr>\n",
       "      <th>16</th>\n",
       "      <td>2023-09-06</td>\n",
       "      <td>ChapterStarted</td>\n",
       "      <td>297202550</td>\n",
       "      <td>15.0</td>\n",
       "      <td>NaN</td>\n",
       "      <td>NaN</td>\n",
       "      <td>NaN</td>\n",
       "      <td>NaN</td>\n",
       "      <td>Hard</td>\n",
       "      <td>NaN</td>\n",
       "    </tr>\n",
       "    <tr>\n",
       "      <th>17</th>\n",
       "      <td>2023-09-03</td>\n",
       "      <td>InAppPurchaseCompleted</td>\n",
       "      <td>274757334</td>\n",
       "      <td>NaN</td>\n",
       "      <td>NaN</td>\n",
       "      <td>NaN</td>\n",
       "      <td>NaN</td>\n",
       "      <td>NaN</td>\n",
       "      <td>NaN</td>\n",
       "      <td>Gem_Tier4</td>\n",
       "    </tr>\n",
       "    <tr>\n",
       "      <th>18</th>\n",
       "      <td>2023-09-05</td>\n",
       "      <td>InAppPurchaseCompleted</td>\n",
       "      <td>279655545</td>\n",
       "      <td>NaN</td>\n",
       "      <td>NaN</td>\n",
       "      <td>NaN</td>\n",
       "      <td>NaN</td>\n",
       "      <td>NaN</td>\n",
       "      <td>NaN</td>\n",
       "      <td>ChapterPack_2_Hard</td>\n",
       "    </tr>\n",
       "    <tr>\n",
       "      <th>19</th>\n",
       "      <td>2023-09-02</td>\n",
       "      <td>InAppPurchaseCompleted</td>\n",
       "      <td>274358562</td>\n",
       "      <td>NaN</td>\n",
       "      <td>NaN</td>\n",
       "      <td>NaN</td>\n",
       "      <td>NaN</td>\n",
       "      <td>NaN</td>\n",
       "      <td>NaN</td>\n",
       "      <td>Offer_Hero_Mai</td>\n",
       "    </tr>\n",
       "    <tr>\n",
       "      <th>20</th>\n",
       "      <td>2023-09-06</td>\n",
       "      <td>RewardedVideoDetails</td>\n",
       "      <td>252723377</td>\n",
       "      <td>NaN</td>\n",
       "      <td>NaN</td>\n",
       "      <td>Revive</td>\n",
       "      <td>NaN</td>\n",
       "      <td>NaN</td>\n",
       "      <td>NaN</td>\n",
       "      <td>NaN</td>\n",
       "    </tr>\n",
       "    <tr>\n",
       "      <th>21</th>\n",
       "      <td>2023-09-06</td>\n",
       "      <td>ChapterProgress</td>\n",
       "      <td>296494704</td>\n",
       "      <td>17.0</td>\n",
       "      <td>0.0</td>\n",
       "      <td>NaN</td>\n",
       "      <td>NaN</td>\n",
       "      <td>NaN</td>\n",
       "      <td>Normal</td>\n",
       "      <td>NaN</td>\n",
       "    </tr>\n",
       "    <tr>\n",
       "      <th>22</th>\n",
       "      <td>2023-09-05</td>\n",
       "      <td>ChapterStarted</td>\n",
       "      <td>296775810</td>\n",
       "      <td>9.0</td>\n",
       "      <td>NaN</td>\n",
       "      <td>NaN</td>\n",
       "      <td>NaN</td>\n",
       "      <td>NaN</td>\n",
       "      <td>Normal</td>\n",
       "      <td>NaN</td>\n",
       "    </tr>\n",
       "    <tr>\n",
       "      <th>23</th>\n",
       "      <td>2023-09-03</td>\n",
       "      <td>ChapterProgress</td>\n",
       "      <td>292493623</td>\n",
       "      <td>13.0</td>\n",
       "      <td>1.0</td>\n",
       "      <td>NaN</td>\n",
       "      <td>NaN</td>\n",
       "      <td>NaN</td>\n",
       "      <td>Normal</td>\n",
       "      <td>NaN</td>\n",
       "    </tr>\n",
       "    <tr>\n",
       "      <th>24</th>\n",
       "      <td>2023-09-05</td>\n",
       "      <td>ChapterProgress</td>\n",
       "      <td>288659196</td>\n",
       "      <td>17.0</td>\n",
       "      <td>1.0</td>\n",
       "      <td>NaN</td>\n",
       "      <td>NaN</td>\n",
       "      <td>NaN</td>\n",
       "      <td>Hard</td>\n",
       "      <td>NaN</td>\n",
       "    </tr>\n",
       "    <tr>\n",
       "      <th>25</th>\n",
       "      <td>2023-09-06</td>\n",
       "      <td>ChapterProgress</td>\n",
       "      <td>297053609</td>\n",
       "      <td>8.0</td>\n",
       "      <td>1.0</td>\n",
       "      <td>NaN</td>\n",
       "      <td>NaN</td>\n",
       "      <td>NaN</td>\n",
       "      <td>Normal</td>\n",
       "      <td>NaN</td>\n",
       "    </tr>\n",
       "    <tr>\n",
       "      <th>26</th>\n",
       "      <td>2023-09-03</td>\n",
       "      <td>RewardedVideoDetails</td>\n",
       "      <td>253294794</td>\n",
       "      <td>NaN</td>\n",
       "      <td>NaN</td>\n",
       "      <td>Gems</td>\n",
       "      <td>NaN</td>\n",
       "      <td>NaN</td>\n",
       "      <td>NaN</td>\n",
       "      <td>NaN</td>\n",
       "    </tr>\n",
       "    <tr>\n",
       "      <th>27</th>\n",
       "      <td>2023-09-05</td>\n",
       "      <td>ChapterProgress</td>\n",
       "      <td>297915846</td>\n",
       "      <td>3.0</td>\n",
       "      <td>0.0</td>\n",
       "      <td>NaN</td>\n",
       "      <td>NaN</td>\n",
       "      <td>NaN</td>\n",
       "      <td>Normal</td>\n",
       "      <td>NaN</td>\n",
       "    </tr>\n",
       "    <tr>\n",
       "      <th>28</th>\n",
       "      <td>2023-09-06</td>\n",
       "      <td>InAppPurchaseCompleted</td>\n",
       "      <td>274023475</td>\n",
       "      <td>NaN</td>\n",
       "      <td>NaN</td>\n",
       "      <td>NaN</td>\n",
       "      <td>NaN</td>\n",
       "      <td>NaN</td>\n",
       "      <td>NaN</td>\n",
       "      <td>Gem_Tier3</td>\n",
       "    </tr>\n",
       "    <tr>\n",
       "      <th>29</th>\n",
       "      <td>2023-09-04</td>\n",
       "      <td>RewardedVideoDetails</td>\n",
       "      <td>252517584</td>\n",
       "      <td>NaN</td>\n",
       "      <td>NaN</td>\n",
       "      <td>Revive</td>\n",
       "      <td>NaN</td>\n",
       "      <td>NaN</td>\n",
       "      <td>NaN</td>\n",
       "      <td>NaN</td>\n",
       "    </tr>\n",
       "    <tr>\n",
       "      <th>30</th>\n",
       "      <td>2023-09-06</td>\n",
       "      <td>ChapterProgress</td>\n",
       "      <td>296162853</td>\n",
       "      <td>14.0</td>\n",
       "      <td>0.0</td>\n",
       "      <td>NaN</td>\n",
       "      <td>NaN</td>\n",
       "      <td>NaN</td>\n",
       "      <td>Hard</td>\n",
       "      <td>NaN</td>\n",
       "    </tr>\n",
       "    <tr>\n",
       "      <th>31</th>\n",
       "      <td>2023-09-04</td>\n",
       "      <td>CurrencySpent</td>\n",
       "      <td>246290430</td>\n",
       "      <td>NaN</td>\n",
       "      <td>NaN</td>\n",
       "      <td>StandardChest</td>\n",
       "      <td>NaN</td>\n",
       "      <td>80.0</td>\n",
       "      <td>NaN</td>\n",
       "      <td>NaN</td>\n",
       "    </tr>\n",
       "    <tr>\n",
       "      <th>32</th>\n",
       "      <td>2023-09-03</td>\n",
       "      <td>ChapterProgress</td>\n",
       "      <td>279918533</td>\n",
       "      <td>12.0</td>\n",
       "      <td>0.0</td>\n",
       "      <td>NaN</td>\n",
       "      <td>NaN</td>\n",
       "      <td>NaN</td>\n",
       "      <td>Hard</td>\n",
       "      <td>NaN</td>\n",
       "    </tr>\n",
       "    <tr>\n",
       "      <th>33</th>\n",
       "      <td>2023-09-06</td>\n",
       "      <td>InAppPurchaseCompleted</td>\n",
       "      <td>273620084</td>\n",
       "      <td>NaN</td>\n",
       "      <td>NaN</td>\n",
       "      <td>NaN</td>\n",
       "      <td>NaN</td>\n",
       "      <td>NaN</td>\n",
       "      <td>NaN</td>\n",
       "      <td>StarterPack_Tier1_Normal</td>\n",
       "    </tr>\n",
       "    <tr>\n",
       "      <th>34</th>\n",
       "      <td>2023-09-05</td>\n",
       "      <td>ChapterStarted</td>\n",
       "      <td>297692059</td>\n",
       "      <td>5.0</td>\n",
       "      <td>NaN</td>\n",
       "      <td>NaN</td>\n",
       "      <td>NaN</td>\n",
       "      <td>NaN</td>\n",
       "      <td>Hard</td>\n",
       "      <td>NaN</td>\n",
       "    </tr>\n",
       "    <tr>\n",
       "      <th>35</th>\n",
       "      <td>2023-09-06</td>\n",
       "      <td>RewardedVideoDetails</td>\n",
       "      <td>253014274</td>\n",
       "      <td>NaN</td>\n",
       "      <td>NaN</td>\n",
       "      <td>Revive</td>\n",
       "      <td>NaN</td>\n",
       "      <td>NaN</td>\n",
       "      <td>NaN</td>\n",
       "      <td>NaN</td>\n",
       "    </tr>\n",
       "    <tr>\n",
       "      <th>36</th>\n",
       "      <td>2023-09-04</td>\n",
       "      <td>RewardedVideoDetails</td>\n",
       "      <td>252997434</td>\n",
       "      <td>NaN</td>\n",
       "      <td>NaN</td>\n",
       "      <td>Revive</td>\n",
       "      <td>NaN</td>\n",
       "      <td>NaN</td>\n",
       "      <td>NaN</td>\n",
       "      <td>NaN</td>\n",
       "    </tr>\n",
       "    <tr>\n",
       "      <th>37</th>\n",
       "      <td>2023-09-06</td>\n",
       "      <td>RewardedVideoDetails</td>\n",
       "      <td>254436692</td>\n",
       "      <td>NaN</td>\n",
       "      <td>NaN</td>\n",
       "      <td>Revive</td>\n",
       "      <td>NaN</td>\n",
       "      <td>NaN</td>\n",
       "      <td>NaN</td>\n",
       "      <td>NaN</td>\n",
       "    </tr>\n",
       "    <tr>\n",
       "      <th>38</th>\n",
       "      <td>2023-09-06</td>\n",
       "      <td>CurrencyEarned</td>\n",
       "      <td>248570086</td>\n",
       "      <td>NaN</td>\n",
       "      <td>NaN</td>\n",
       "      <td>NaN</td>\n",
       "      <td>LevelUp</td>\n",
       "      <td>20.0</td>\n",
       "      <td>NaN</td>\n",
       "      <td>NaN</td>\n",
       "    </tr>\n",
       "    <tr>\n",
       "      <th>39</th>\n",
       "      <td>2023-09-04</td>\n",
       "      <td>RewardedVideoDetails</td>\n",
       "      <td>246994553</td>\n",
       "      <td>NaN</td>\n",
       "      <td>NaN</td>\n",
       "      <td>QuickEarnings</td>\n",
       "      <td>NaN</td>\n",
       "      <td>NaN</td>\n",
       "      <td>NaN</td>\n",
       "      <td>NaN</td>\n",
       "    </tr>\n",
       "    <tr>\n",
       "      <th>40</th>\n",
       "      <td>2023-09-05</td>\n",
       "      <td>ChapterProgress</td>\n",
       "      <td>296560771</td>\n",
       "      <td>10.0</td>\n",
       "      <td>1.0</td>\n",
       "      <td>NaN</td>\n",
       "      <td>NaN</td>\n",
       "      <td>NaN</td>\n",
       "      <td>Hard</td>\n",
       "      <td>NaN</td>\n",
       "    </tr>\n",
       "    <tr>\n",
       "      <th>41</th>\n",
       "      <td>2023-09-05</td>\n",
       "      <td>ChapterStarted</td>\n",
       "      <td>298449785</td>\n",
       "      <td>6.0</td>\n",
       "      <td>NaN</td>\n",
       "      <td>NaN</td>\n",
       "      <td>NaN</td>\n",
       "      <td>NaN</td>\n",
       "      <td>Normal</td>\n",
       "      <td>NaN</td>\n",
       "    </tr>\n",
       "    <tr>\n",
       "      <th>42</th>\n",
       "      <td>2023-09-03</td>\n",
       "      <td>RewardedVideoDetails</td>\n",
       "      <td>253866290</td>\n",
       "      <td>NaN</td>\n",
       "      <td>NaN</td>\n",
       "      <td>Revive</td>\n",
       "      <td>NaN</td>\n",
       "      <td>NaN</td>\n",
       "      <td>NaN</td>\n",
       "      <td>NaN</td>\n",
       "    </tr>\n",
       "    <tr>\n",
       "      <th>43</th>\n",
       "      <td>2023-09-02</td>\n",
       "      <td>CurrencyEarned</td>\n",
       "      <td>244701773</td>\n",
       "      <td>NaN</td>\n",
       "      <td>NaN</td>\n",
       "      <td>NaN</td>\n",
       "      <td>Achievements</td>\n",
       "      <td>10.0</td>\n",
       "      <td>NaN</td>\n",
       "      <td>NaN</td>\n",
       "    </tr>\n",
       "    <tr>\n",
       "      <th>44</th>\n",
       "      <td>2023-09-06</td>\n",
       "      <td>ChapterProgress</td>\n",
       "      <td>256290764</td>\n",
       "      <td>6.0</td>\n",
       "      <td>0.0</td>\n",
       "      <td>NaN</td>\n",
       "      <td>NaN</td>\n",
       "      <td>NaN</td>\n",
       "      <td>Normal</td>\n",
       "      <td>NaN</td>\n",
       "    </tr>\n",
       "    <tr>\n",
       "      <th>45</th>\n",
       "      <td>2023-09-02</td>\n",
       "      <td>ChapterProgress</td>\n",
       "      <td>294973243</td>\n",
       "      <td>15.0</td>\n",
       "      <td>0.0</td>\n",
       "      <td>NaN</td>\n",
       "      <td>NaN</td>\n",
       "      <td>NaN</td>\n",
       "      <td>Normal</td>\n",
       "      <td>NaN</td>\n",
       "    </tr>\n",
       "    <tr>\n",
       "      <th>46</th>\n",
       "      <td>2023-09-06</td>\n",
       "      <td>InAppPurchaseCompleted</td>\n",
       "      <td>257976714</td>\n",
       "      <td>NaN</td>\n",
       "      <td>NaN</td>\n",
       "      <td>NaN</td>\n",
       "      <td>NaN</td>\n",
       "      <td>NaN</td>\n",
       "      <td>NaN</td>\n",
       "      <td>ThreeDaysPass</td>\n",
       "    </tr>\n",
       "    <tr>\n",
       "      <th>47</th>\n",
       "      <td>2023-09-06</td>\n",
       "      <td>RewardedVideoDetails</td>\n",
       "      <td>247554114</td>\n",
       "      <td>NaN</td>\n",
       "      <td>NaN</td>\n",
       "      <td>Revive</td>\n",
       "      <td>NaN</td>\n",
       "      <td>NaN</td>\n",
       "      <td>NaN</td>\n",
       "      <td>NaN</td>\n",
       "    </tr>\n",
       "    <tr>\n",
       "      <th>48</th>\n",
       "      <td>2023-09-06</td>\n",
       "      <td>CurrencyEarned</td>\n",
       "      <td>247019905</td>\n",
       "      <td>NaN</td>\n",
       "      <td>NaN</td>\n",
       "      <td>NaN</td>\n",
       "      <td>DailyFree</td>\n",
       "      <td>30.0</td>\n",
       "      <td>NaN</td>\n",
       "      <td>NaN</td>\n",
       "    </tr>\n",
       "    <tr>\n",
       "      <th>49</th>\n",
       "      <td>2023-09-06</td>\n",
       "      <td>RewardedVideoDetails</td>\n",
       "      <td>252460687</td>\n",
       "      <td>NaN</td>\n",
       "      <td>NaN</td>\n",
       "      <td>Revive</td>\n",
       "      <td>NaN</td>\n",
       "      <td>NaN</td>\n",
       "      <td>NaN</td>\n",
       "      <td>NaN</td>\n",
       "    </tr>\n",
       "  </tbody>\n",
       "</table>\n",
       "</div>"
      ],
      "text/plain": [
       "   EVENT_DATE              EVENT_NAME    USER_ID  CHAPTER  RESULT  \\\n",
       "0  2023-09-03          CurrencyEarned  247259373      NaN     NaN   \n",
       "1  2023-09-03         ChapterProgress  298339933      3.0     0.0   \n",
       "2  2023-09-05          CurrencyEarned  246407236      NaN     NaN   \n",
       "3  2023-09-05          ChapterStarted  297123727     18.0     NaN   \n",
       "4  2023-09-06          ChapterStarted  296425420     24.0     NaN   \n",
       "5  2023-09-06  InAppPurchaseCompleted  279337211      NaN     NaN   \n",
       "6  2023-09-03         ChapterProgress  298331945      6.0     0.0   \n",
       "7  2023-09-05          ChapterStarted  288198480     45.0     NaN   \n",
       "8  2023-09-03          CurrencyEarned  250987687      NaN     NaN   \n",
       "9  2023-09-03          CurrencyEarned  244507802      NaN     NaN   \n",
       "10 2023-09-02  InAppPurchaseCompleted  277412625      NaN     NaN   \n",
       "11 2023-09-05          ChapterStarted  298183340      3.0     NaN   \n",
       "12 2023-09-02         ChapterProgress  297796195      4.0     0.0   \n",
       "13 2023-09-04           CurrencySpent  248876700      NaN     NaN   \n",
       "14 2023-09-03           CurrencySpent  248876700      NaN     NaN   \n",
       "15 2023-09-06  InAppPurchaseCompleted  273620084      NaN     NaN   \n",
       "16 2023-09-06          ChapterStarted  297202550     15.0     NaN   \n",
       "17 2023-09-03  InAppPurchaseCompleted  274757334      NaN     NaN   \n",
       "18 2023-09-05  InAppPurchaseCompleted  279655545      NaN     NaN   \n",
       "19 2023-09-02  InAppPurchaseCompleted  274358562      NaN     NaN   \n",
       "20 2023-09-06    RewardedVideoDetails  252723377      NaN     NaN   \n",
       "21 2023-09-06         ChapterProgress  296494704     17.0     0.0   \n",
       "22 2023-09-05          ChapterStarted  296775810      9.0     NaN   \n",
       "23 2023-09-03         ChapterProgress  292493623     13.0     1.0   \n",
       "24 2023-09-05         ChapterProgress  288659196     17.0     1.0   \n",
       "25 2023-09-06         ChapterProgress  297053609      8.0     1.0   \n",
       "26 2023-09-03    RewardedVideoDetails  253294794      NaN     NaN   \n",
       "27 2023-09-05         ChapterProgress  297915846      3.0     0.0   \n",
       "28 2023-09-06  InAppPurchaseCompleted  274023475      NaN     NaN   \n",
       "29 2023-09-04    RewardedVideoDetails  252517584      NaN     NaN   \n",
       "30 2023-09-06         ChapterProgress  296162853     14.0     0.0   \n",
       "31 2023-09-04           CurrencySpent  246290430      NaN     NaN   \n",
       "32 2023-09-03         ChapterProgress  279918533     12.0     0.0   \n",
       "33 2023-09-06  InAppPurchaseCompleted  273620084      NaN     NaN   \n",
       "34 2023-09-05          ChapterStarted  297692059      5.0     NaN   \n",
       "35 2023-09-06    RewardedVideoDetails  253014274      NaN     NaN   \n",
       "36 2023-09-04    RewardedVideoDetails  252997434      NaN     NaN   \n",
       "37 2023-09-06    RewardedVideoDetails  254436692      NaN     NaN   \n",
       "38 2023-09-06          CurrencyEarned  248570086      NaN     NaN   \n",
       "39 2023-09-04    RewardedVideoDetails  246994553      NaN     NaN   \n",
       "40 2023-09-05         ChapterProgress  296560771     10.0     1.0   \n",
       "41 2023-09-05          ChapterStarted  298449785      6.0     NaN   \n",
       "42 2023-09-03    RewardedVideoDetails  253866290      NaN     NaN   \n",
       "43 2023-09-02          CurrencyEarned  244701773      NaN     NaN   \n",
       "44 2023-09-06         ChapterProgress  256290764      6.0     0.0   \n",
       "45 2023-09-02         ChapterProgress  294973243     15.0     0.0   \n",
       "46 2023-09-06  InAppPurchaseCompleted  257976714      NaN     NaN   \n",
       "47 2023-09-06    RewardedVideoDetails  247554114      NaN     NaN   \n",
       "48 2023-09-06          CurrencyEarned  247019905      NaN     NaN   \n",
       "49 2023-09-06    RewardedVideoDetails  252460687      NaN     NaN   \n",
       "\n",
       "             REASON          SOURCE  AMOUNT GAME_MODE  \\\n",
       "0               NaN       DailyFree    30.0       NaN   \n",
       "1               NaN             NaN     NaN    Normal   \n",
       "2               NaN    Achievements    10.0       NaN   \n",
       "3               NaN             NaN     NaN    Normal   \n",
       "4               NaN             NaN     NaN      Hard   \n",
       "5               NaN             NaN     NaN       NaN   \n",
       "6               NaN             NaN     NaN    Normal   \n",
       "7               NaN             NaN     NaN    Normal   \n",
       "8               NaN  ChapterRewards    20.0       NaN   \n",
       "9               NaN      GrowthFund   150.0       NaN   \n",
       "10              NaN             NaN     NaN       NaN   \n",
       "11              NaN             NaN     NaN      Hard   \n",
       "12              NaN             NaN     NaN    Normal   \n",
       "13  RoyaleChestGold             NaN    96.0       NaN   \n",
       "14           Revive             NaN    40.0       NaN   \n",
       "15              NaN             NaN     NaN       NaN   \n",
       "16              NaN             NaN     NaN      Hard   \n",
       "17              NaN             NaN     NaN       NaN   \n",
       "18              NaN             NaN     NaN       NaN   \n",
       "19              NaN             NaN     NaN       NaN   \n",
       "20           Revive             NaN     NaN       NaN   \n",
       "21              NaN             NaN     NaN    Normal   \n",
       "22              NaN             NaN     NaN    Normal   \n",
       "23              NaN             NaN     NaN    Normal   \n",
       "24              NaN             NaN     NaN      Hard   \n",
       "25              NaN             NaN     NaN    Normal   \n",
       "26             Gems             NaN     NaN       NaN   \n",
       "27              NaN             NaN     NaN    Normal   \n",
       "28              NaN             NaN     NaN       NaN   \n",
       "29           Revive             NaN     NaN       NaN   \n",
       "30              NaN             NaN     NaN      Hard   \n",
       "31    StandardChest             NaN    80.0       NaN   \n",
       "32              NaN             NaN     NaN      Hard   \n",
       "33              NaN             NaN     NaN       NaN   \n",
       "34              NaN             NaN     NaN      Hard   \n",
       "35           Revive             NaN     NaN       NaN   \n",
       "36           Revive             NaN     NaN       NaN   \n",
       "37           Revive             NaN     NaN       NaN   \n",
       "38              NaN         LevelUp    20.0       NaN   \n",
       "39    QuickEarnings             NaN     NaN       NaN   \n",
       "40              NaN             NaN     NaN      Hard   \n",
       "41              NaN             NaN     NaN    Normal   \n",
       "42           Revive             NaN     NaN       NaN   \n",
       "43              NaN    Achievements    10.0       NaN   \n",
       "44              NaN             NaN     NaN    Normal   \n",
       "45              NaN             NaN     NaN    Normal   \n",
       "46              NaN             NaN     NaN       NaN   \n",
       "47           Revive             NaN     NaN       NaN   \n",
       "48              NaN       DailyFree    30.0       NaN   \n",
       "49           Revive             NaN     NaN       NaN   \n",
       "\n",
       "                        NAME  \n",
       "0                        NaN  \n",
       "1                        NaN  \n",
       "2                        NaN  \n",
       "3                        NaN  \n",
       "4                        NaN  \n",
       "5                  Gem_Tier3  \n",
       "6                        NaN  \n",
       "7                        NaN  \n",
       "8                        NaN  \n",
       "9                        NaN  \n",
       "10                 Gem_Tier3  \n",
       "11                       NaN  \n",
       "12                       NaN  \n",
       "13                       NaN  \n",
       "14                       NaN  \n",
       "15       ThreeDaysPack_Tier1  \n",
       "16                       NaN  \n",
       "17                 Gem_Tier4  \n",
       "18        ChapterPack_2_Hard  \n",
       "19            Offer_Hero_Mai  \n",
       "20                       NaN  \n",
       "21                       NaN  \n",
       "22                       NaN  \n",
       "23                       NaN  \n",
       "24                       NaN  \n",
       "25                       NaN  \n",
       "26                       NaN  \n",
       "27                       NaN  \n",
       "28                 Gem_Tier3  \n",
       "29                       NaN  \n",
       "30                       NaN  \n",
       "31                       NaN  \n",
       "32                       NaN  \n",
       "33  StarterPack_Tier1_Normal  \n",
       "34                       NaN  \n",
       "35                       NaN  \n",
       "36                       NaN  \n",
       "37                       NaN  \n",
       "38                       NaN  \n",
       "39                       NaN  \n",
       "40                       NaN  \n",
       "41                       NaN  \n",
       "42                       NaN  \n",
       "43                       NaN  \n",
       "44                       NaN  \n",
       "45                       NaN  \n",
       "46             ThreeDaysPass  \n",
       "47                       NaN  \n",
       "48                       NaN  \n",
       "49                       NaN  "
      ]
     },
     "execution_count": 5,
     "metadata": {},
     "output_type": "execute_result"
    }
   ],
   "source": [
    "events.head(50)"
   ]
  },
  {
   "cell_type": "code",
   "execution_count": 3,
   "metadata": {},
   "outputs": [],
   "source": [
    "currency_data = events[events['EVENT_NAME'] == 'CurrencyEarned']\n",
    "user_metrics = currency_data.groupby('USER_ID').agg(\n",
    "    TotalCurrencyEarned=('AMOUNT', 'sum'),\n",
    "    EarnFrequency=('EVENT_NAME', 'count'),\n",
    "    UniqueSources=('SOURCE', 'nunique')\n",
    ").reset_index()"
   ]
  },
  {
   "cell_type": "code",
   "execution_count": 78,
   "metadata": {},
   "outputs": [
    {
     "data": {
      "text/html": [
       "<div>\n",
       "<style scoped>\n",
       "    .dataframe tbody tr th:only-of-type {\n",
       "        vertical-align: middle;\n",
       "    }\n",
       "\n",
       "    .dataframe tbody tr th {\n",
       "        vertical-align: top;\n",
       "    }\n",
       "\n",
       "    .dataframe thead th {\n",
       "        text-align: right;\n",
       "    }\n",
       "</style>\n",
       "<table border=\"1\" class=\"dataframe\">\n",
       "  <thead>\n",
       "    <tr style=\"text-align: right;\">\n",
       "      <th></th>\n",
       "      <th>USER_ID</th>\n",
       "      <th>TotalCurrencyEarned</th>\n",
       "      <th>EarnFrequency</th>\n",
       "      <th>UniqueSources</th>\n",
       "    </tr>\n",
       "  </thead>\n",
       "  <tbody>\n",
       "    <tr>\n",
       "      <th>0</th>\n",
       "      <td>240748227</td>\n",
       "      <td>80.0</td>\n",
       "      <td>3</td>\n",
       "      <td>2</td>\n",
       "    </tr>\n",
       "    <tr>\n",
       "      <th>1</th>\n",
       "      <td>242208421</td>\n",
       "      <td>20.0</td>\n",
       "      <td>1</td>\n",
       "      <td>1</td>\n",
       "    </tr>\n",
       "    <tr>\n",
       "      <th>2</th>\n",
       "      <td>242499511</td>\n",
       "      <td>110.0</td>\n",
       "      <td>4</td>\n",
       "      <td>2</td>\n",
       "    </tr>\n",
       "    <tr>\n",
       "      <th>3</th>\n",
       "      <td>242722793</td>\n",
       "      <td>70.0</td>\n",
       "      <td>2</td>\n",
       "      <td>1</td>\n",
       "    </tr>\n",
       "    <tr>\n",
       "      <th>4</th>\n",
       "      <td>242873382</td>\n",
       "      <td>460.0</td>\n",
       "      <td>12</td>\n",
       "      <td>6</td>\n",
       "    </tr>\n",
       "    <tr>\n",
       "      <th>...</th>\n",
       "      <td>...</td>\n",
       "      <td>...</td>\n",
       "      <td>...</td>\n",
       "      <td>...</td>\n",
       "    </tr>\n",
       "    <tr>\n",
       "      <th>107</th>\n",
       "      <td>252188172</td>\n",
       "      <td>60.0</td>\n",
       "      <td>2</td>\n",
       "      <td>1</td>\n",
       "    </tr>\n",
       "    <tr>\n",
       "      <th>108</th>\n",
       "      <td>252223904</td>\n",
       "      <td>135.0</td>\n",
       "      <td>6</td>\n",
       "      <td>5</td>\n",
       "    </tr>\n",
       "    <tr>\n",
       "      <th>109</th>\n",
       "      <td>252224148</td>\n",
       "      <td>20.0</td>\n",
       "      <td>1</td>\n",
       "      <td>1</td>\n",
       "    </tr>\n",
       "    <tr>\n",
       "      <th>110</th>\n",
       "      <td>252313885</td>\n",
       "      <td>140.0</td>\n",
       "      <td>3</td>\n",
       "      <td>2</td>\n",
       "    </tr>\n",
       "    <tr>\n",
       "      <th>111</th>\n",
       "      <td>252350779</td>\n",
       "      <td>464.0</td>\n",
       "      <td>21</td>\n",
       "      <td>8</td>\n",
       "    </tr>\n",
       "  </tbody>\n",
       "</table>\n",
       "<p>112 rows × 4 columns</p>\n",
       "</div>"
      ],
      "text/plain": [
       "       USER_ID  TotalCurrencyEarned  EarnFrequency  UniqueSources\n",
       "0    240748227                 80.0              3              2\n",
       "1    242208421                 20.0              1              1\n",
       "2    242499511                110.0              4              2\n",
       "3    242722793                 70.0              2              1\n",
       "4    242873382                460.0             12              6\n",
       "..         ...                  ...            ...            ...\n",
       "107  252188172                 60.0              2              1\n",
       "108  252223904                135.0              6              5\n",
       "109  252224148                 20.0              1              1\n",
       "110  252313885                140.0              3              2\n",
       "111  252350779                464.0             21              8\n",
       "\n",
       "[112 rows x 4 columns]"
      ]
     },
     "execution_count": 78,
     "metadata": {},
     "output_type": "execute_result"
    }
   ],
   "source": [
    "user_metrics"
   ]
  },
  {
   "cell_type": "code",
   "execution_count": 4,
   "metadata": {},
   "outputs": [],
   "source": [
    "currency_data = events[events['EVENT_NAME'] == 'CurrencyEarned']\n",
    "# Step 1: Create source-level statistics for each user\n",
    "source_stats = currency_data.groupby(['USER_ID', 'SOURCE']).agg(\n",
    "    SourceAmount=('AMOUNT', 'sum'),\n",
    "    SourceFrequency=('EVENT_NAME', 'count')\n",
    ").reset_index()\n",
    "\n",
    "# Step 2: Pivot to create features for each source (one-hot-like)\n",
    "source_pivot = source_stats.pivot(index='USER_ID', columns='SOURCE', values='SourceAmount').fillna(0)\n"
   ]
  },
  {
   "cell_type": "code",
   "execution_count": 5,
   "metadata": {},
   "outputs": [],
   "source": [
    "total_earned = source_pivot.sum(axis=1)\n",
    "source_proportions = source_pivot.div(total_earned, axis=0).fillna(0)"
   ]
  },
  {
   "cell_type": "code",
   "execution_count": 6,
   "metadata": {},
   "outputs": [],
   "source": [
    "user_metrics = user_metrics.merge(source_proportions, on='USER_ID', how='left')"
   ]
  },
  {
   "cell_type": "markdown",
   "metadata": {},
   "source": [
    "# Cluster"
   ]
  },
  {
   "cell_type": "code",
   "execution_count": 9,
   "metadata": {},
   "outputs": [],
   "source": [
    "features = user_metrics.drop(columns=['USER_ID'])  # Remove USER_ID\n",
    "scaler = StandardScaler()\n",
    "features_scaled = scaler.fit_transform(features)\n",
    "\n",
    "# Apply HDBSCAN\n",
    "clusterer = hdbscan.HDBSCAN(min_cluster_size=10, metric='euclidean')\n",
    "user_metrics['Cluster'] = clusterer.fit_predict(features_scaled)"
   ]
  },
  {
   "cell_type": "markdown",
   "metadata": {},
   "source": [
    "# Cluster Analysis by Source"
   ]
  },
  {
   "cell_type": "code",
   "execution_count": 10,
   "metadata": {},
   "outputs": [],
   "source": [
    "cluster_analysis = user_metrics.groupby('Cluster').agg(\n",
    "    TotalCurrencyEarned=('TotalCurrencyEarned', 'mean'),\n",
    "    EarnFrequency=('EarnFrequency', 'mean'),\n",
    ").reset_index()"
   ]
  },
  {
   "cell_type": "code",
   "execution_count": 11,
   "metadata": {},
   "outputs": [],
   "source": [
    "# Create subsets for each cluster\n",
    "cluster_negative = user_metrics[user_metrics['Cluster'] == -1]\n",
    "cluster_zero = user_metrics[user_metrics['Cluster'] == 0]\n",
    "cluster_one = user_metrics[user_metrics['Cluster'] == 1]"
   ]
  },
  {
   "cell_type": "markdown",
   "metadata": {},
   "source": [
    "# Visuals"
   ]
  },
  {
   "cell_type": "code",
   "execution_count": 12,
   "metadata": {},
   "outputs": [
    {
     "data": {
      "application/vnd.plotly.v1+json": {
       "config": {
        "plotlyServerURL": "https://plot.ly"
       },
       "data": [
        {
         "customdata": [
          [
           240748227,
           2,
           0,
           0,
           0,
           0,
           0,
           0.75,
           0,
           0.25,
           0,
           0,
           0,
           0,
           0,
           0,
           0,
           0,
           0,
           0,
           0,
           1
          ],
          [
           242208421,
           1,
           0,
           0,
           0,
           0,
           0,
           0,
           0,
           1,
           0,
           0,
           0,
           0,
           0,
           0,
           0,
           0,
           0,
           0,
           0,
           0
          ],
          [
           242499511,
           2,
           0,
           0,
           0,
           0,
           0,
           0.8181818181818182,
           0,
           0.18181818181818182,
           0,
           0,
           0,
           0,
           0,
           0,
           0,
           0,
           0,
           0,
           0,
           1
          ],
          [
           242722793,
           1,
           0,
           0,
           0,
           0,
           0,
           0,
           0,
           1,
           0,
           0,
           0,
           0,
           0,
           0,
           0,
           0,
           0,
           0,
           0,
           0
          ],
          [
           242873382,
           6,
           0.06521739130434782,
           0,
           0,
           0.06521739130434782,
           0,
           0.2608695652173913,
           0,
           0.13043478260869565,
           0,
           0.43478260869565216,
           0,
           0.043478260869565216,
           0,
           0,
           0,
           0,
           0,
           0,
           0,
           -1
          ],
          [
           242976340,
           3,
           0.09090909090909091,
           0,
           0,
           0,
           0,
           0.8181818181818182,
           0,
           0.09090909090909091,
           0,
           0,
           0,
           0,
           0,
           0,
           0,
           0,
           0,
           0,
           0,
           1
          ],
          [
           243304308,
           7,
           0.08823529411764706,
           0.07352941176470588,
           0,
           0,
           0,
           0.5294117647058824,
           0.17647058823529413,
           0.029411764705882353,
           0,
           0,
           0,
           0.029411764705882353,
           0,
           0,
           0,
           0,
           0,
           0,
           0.07352941176470588,
           -1
          ],
          [
           243315083,
           4,
           0,
           0,
           0.3076923076923077,
           0,
           0,
           0.23076923076923078,
           0,
           0,
           0,
           0,
           0,
           0.15384615384615385,
           0,
           0,
           0,
           0,
           0.3076923076923077,
           0,
           0,
           -1
          ],
          [
           243335567,
           2,
           0.25,
           0,
           0,
           0,
           0,
           0.75,
           0,
           0,
           0,
           0,
           0,
           0,
           0,
           0,
           0,
           0,
           0,
           0,
           0,
           -1
          ],
          [
           243436163,
           4,
           0,
           0,
           0.18181818181818182,
           0,
           0,
           0.2727272727272727,
           0,
           0,
           0,
           0,
           0,
           0.18181818181818182,
           0,
           0,
           0,
           0,
           0.36363636363636365,
           0,
           0,
           -1
          ],
          [
           243477888,
           6,
           0.061855670103092786,
           0,
           0,
           0,
           0,
           0.24742268041237114,
           0.09278350515463918,
           0.14432989690721648,
           0,
           0.41237113402061853,
           0,
           0.041237113402061855,
           0,
           0,
           0,
           0,
           0,
           0,
           0,
           -1
          ],
          [
           243614569,
           8,
           0,
           0.011467889908256881,
           0,
           0,
           0,
           0.10321100917431193,
           0.020642201834862386,
           0.022935779816513763,
           0,
           0,
           0,
           0.0045871559633027525,
           0.1720183486238532,
           0.6192660550458715,
           0,
           0.045871559633027525,
           0,
           0,
           0,
           -1
          ],
          [
           243637454,
           3,
           0.08,
           0,
           0,
           0,
           0,
           0.6,
           0,
           0.32,
           0,
           0,
           0,
           0,
           0,
           0,
           0,
           0,
           0,
           0,
           0,
           1
          ],
          [
           243721763,
           3,
           0,
           0,
           0,
           0,
           0,
           0.8059701492537313,
           0.13432835820895522,
           0.05970149253731343,
           0,
           0,
           0,
           0,
           0,
           0,
           0,
           0,
           0,
           0,
           0,
           -1
          ],
          [
           243797702,
           10,
           0.04020100502512563,
           0.05025125628140704,
           0,
           0.03015075376884422,
           0,
           0.3316582914572864,
           0.1507537688442211,
           0.08040201005025126,
           0,
           0,
           0,
           0.04020100502512563,
           0,
           0,
           0,
           0.12562814070351758,
           0,
           0.10050251256281408,
           0.05025125628140704,
           -1
          ],
          [
           243843714,
           6,
           0,
           0,
           0,
           0.04054054054054054,
           0,
           0.18243243243243243,
           0.07094594594594594,
           0.0472972972972973,
           0,
           0,
           0,
           0,
           0,
           0.6081081081081081,
           0,
           0.05067567567567568,
           0,
           0,
           0,
           -1
          ],
          [
           243844870,
           10,
           0.07984031936127745,
           0,
           0,
           0.0748502994011976,
           0,
           0.20958083832335328,
           0.16467065868263472,
           0.01996007984031936,
           0,
           0.1497005988023952,
           0.041916167664670656,
           0.059880239520958084,
           0,
           0,
           0,
           0,
           0,
           0.0998003992015968,
           0.0998003992015968,
           -1
          ],
          [
           243925723,
           6,
           0.038461538461538464,
           0,
           0.07692307692307693,
           0.15384615384615385,
           0,
           0.34615384615384615,
           0,
           0.23076923076923078,
           0,
           0,
           0,
           0.15384615384615385,
           0,
           0,
           0,
           0,
           0,
           0,
           0,
           -1
          ],
          [
           243930197,
           14,
           0.056818181818181816,
           0.020292207792207792,
           0,
           0.11363636363636363,
           0.020292207792207792,
           0.08522727272727272,
           0.04261363636363636,
           0.020292207792207792,
           0.040584415584415584,
           0.2435064935064935,
           0.01176948051948052,
           0.040584415584415584,
           0.2435064935064935,
           0,
           0,
           0,
           0,
           0.040584415584415584,
           0.020292207792207792,
           -1
          ],
          [
           244219170,
           1,
           0,
           0,
           0,
           0,
           0,
           0,
           0,
           1,
           0,
           0,
           0,
           0,
           0,
           0,
           0,
           0,
           0,
           0,
           0,
           0
          ],
          [
           244220555,
           5,
           0,
           0,
           0.125,
           0.3125,
           0,
           0.1875,
           0,
           0,
           0,
           0,
           0,
           0.125,
           0,
           0,
           0,
           0,
           0.25,
           0,
           0,
           -1
          ],
          [
           244507802,
           12,
           0.08640552995391705,
           0.02880184331797235,
           0.0576036866359447,
           0.08352534562211981,
           0,
           0.24193548387096775,
           0.12960829493087558,
           0.05184331797235023,
           0,
           0.08640552995391705,
           0.038018433179723504,
           0.08064516129032258,
           0,
           0,
           0,
           0.02880184331797235,
           0,
           0,
           0.08640552995391705,
           -1
          ],
          [
           244605473,
           1,
           0,
           0,
           0,
           0,
           0,
           0,
           0,
           1,
           0,
           0,
           0,
           0,
           0,
           0,
           0,
           0,
           0,
           0,
           0,
           0
          ],
          [
           244611078,
           4,
           0.07692307692307693,
           0,
           0,
           0.23076923076923078,
           0,
           0.46153846153846156,
           0,
           0.23076923076923078,
           0,
           0,
           0,
           0,
           0,
           0,
           0,
           0,
           0,
           0,
           0,
           -1
          ],
          [
           244655243,
           4,
           0,
           0,
           0,
           0.2857142857142857,
           0,
           0.42857142857142855,
           0.10714285714285714,
           0.17857142857142858,
           0,
           0,
           0,
           0,
           0,
           0,
           0,
           0,
           0,
           0,
           0,
           -1
          ],
          [
           244701773,
           6,
           0.23255813953488372,
           0,
           0.09302325581395349,
           0,
           0,
           0.27906976744186046,
           0.06976744186046512,
           0,
           0,
           0.23255813953488372,
           0,
           0.09302325581395349,
           0,
           0,
           0,
           0,
           0,
           0,
           0,
           -1
          ],
          [
           244715764,
           2,
           0,
           0,
           0,
           0,
           0,
           0.6,
           0,
           0.4,
           0,
           0,
           0,
           0,
           0,
           0,
           0,
           0,
           0,
           0,
           0,
           1
          ],
          [
           244716851,
           1,
           0,
           0,
           0,
           0,
           0,
           0,
           0,
           1,
           0,
           0,
           0,
           0,
           0,
           0,
           0,
           0,
           0,
           0,
           0,
           0
          ],
          [
           245555306,
           8,
           0.04054054054054054,
           0,
           0,
           0.2905405405405405,
           0,
           0.12162162162162163,
           0.060810810810810814,
           0.0945945945945946,
           0,
           0.2702702702702703,
           0,
           0.05405405405405406,
           0,
           0,
           0,
           0,
           0,
           0,
           0.06756756756756757,
           -1
          ],
          [
           245680273,
           1,
           0,
           0,
           0,
           0,
           0,
           0,
           0,
           1,
           0,
           0,
           0,
           0,
           0,
           0,
           0,
           0,
           0,
           0,
           0,
           0
          ],
          [
           245875059,
           4,
           0.14285714285714285,
           0,
           0,
           0,
           0,
           0.42857142857142855,
           0,
           0.23809523809523808,
           0,
           0,
           0,
           0.19047619047619047,
           0,
           0,
           0,
           0,
           0,
           0,
           0,
           -1
          ],
          [
           246287195,
           4,
           0,
           0,
           0,
           0,
           0,
           0.5882352941176471,
           0.058823529411764705,
           0.23529411764705882,
           0,
           0,
           0.11764705882352941,
           0,
           0,
           0,
           0,
           0,
           0,
           0,
           0,
           -1
          ],
          [
           246289275,
           1,
           0,
           0,
           0,
           0,
           0,
           0,
           0,
           1,
           0,
           0,
           0,
           0,
           0,
           0,
           0,
           0,
           0,
           0,
           0,
           0
          ],
          [
           246290430,
           9,
           0.10909090909090909,
           0,
           0.09696969696969697,
           0.2,
           0,
           0.18181818181818182,
           0.03636363636363636,
           0.06060606060606061,
           0,
           0.06060606060606061,
           0,
           0.19393939393939394,
           0,
           0,
           0,
           0,
           0,
           0,
           0.06060606060606061,
           -1
          ],
          [
           246291625,
           11,
           0.10778443113772455,
           0.059880239520958084,
           0.04790419161676647,
           0.029940119760479042,
           0,
           0.2155688622754491,
           0.1437125748502994,
           0.0718562874251497,
           0.11976047904191617,
           0,
           0.04790419161676647,
           0.09580838323353294,
           0,
           0,
           0,
           0,
           0,
           0,
           0.059880239520958084,
           -1
          ],
          [
           246407236,
           5,
           0.1951219512195122,
           0,
           0,
           0,
           0,
           0.43902439024390244,
           0.07317073170731707,
           0.1951219512195122,
           0,
           0,
           0,
           0.0975609756097561,
           0,
           0,
           0,
           0,
           0,
           0,
           0,
           -1
          ],
          [
           246428998,
           1,
           0,
           0,
           0,
           1,
           0,
           0,
           0,
           0,
           0,
           0,
           0,
           0,
           0,
           0,
           0,
           0,
           0,
           0,
           0,
           -1
          ],
          [
           246496397,
           5,
           0.1,
           0,
           0,
           0.25,
           0,
           0.3,
           0.15,
           0.2,
           0,
           0,
           0,
           0,
           0,
           0,
           0,
           0,
           0,
           0,
           0,
           -1
          ],
          [
           246776621,
           1,
           0,
           0,
           0,
           0,
           0,
           0,
           0,
           1,
           0,
           0,
           0,
           0,
           0,
           0,
           0,
           0,
           0,
           0,
           0,
           0
          ],
          [
           246994553,
           6,
           0.028985507246376812,
           0,
           0,
           0.07246376811594203,
           0,
           0.5217391304347826,
           0.17391304347826086,
           0.057971014492753624,
           0,
           0,
           0,
           0,
           0,
           0,
           0,
           0.14492753623188406,
           0,
           0,
           0,
           -1
          ],
          [
           246997273,
           6,
           0.13333333333333333,
           0,
           0.08888888888888889,
           0.1111111111111111,
           0,
           0.26666666666666666,
           0,
           0.2222222222222222,
           0,
           0,
           0,
           0.17777777777777778,
           0,
           0,
           0,
           0,
           0,
           0,
           0,
           -1
          ],
          [
           247019905,
           3,
           0,
           0,
           0,
           0.16216216216216217,
           0,
           0.16216216216216217,
           0,
           0,
           0,
           0,
           0,
           0,
           0,
           0,
           0,
           0.6756756756756757,
           0,
           0,
           0,
           -1
          ],
          [
           247021971,
           2,
           0,
           0,
           0.5,
           0,
           0,
           0,
           0,
           0,
           0,
           0,
           0,
           0.5,
           0,
           0,
           0,
           0,
           0,
           0,
           0,
           -1
          ],
          [
           247160894,
           4,
           0.1111111111111111,
           0,
           0,
           0,
           0,
           0.5,
           0,
           0.2777777777777778,
           0,
           0,
           0,
           0.1111111111111111,
           0,
           0,
           0,
           0,
           0,
           0,
           0,
           1
          ],
          [
           247170630,
           6,
           0.02564102564102564,
           0,
           0.05128205128205128,
           0,
           0,
           0.46153846153846156,
           0.23076923076923078,
           0,
           0,
           0,
           0,
           0.10256410256410256,
           0,
           0,
           0,
           0,
           0,
           0,
           0.1282051282051282,
           -1
          ],
          [
           247175958,
           4,
           0.21052631578947367,
           0,
           0,
           0.3157894736842105,
           0,
           0.3157894736842105,
           0.15789473684210525,
           0,
           0,
           0,
           0,
           0,
           0,
           0,
           0,
           0,
           0,
           0,
           0,
           -1
          ],
          [
           247178263,
           5,
           0.0392156862745098,
           0,
           0,
           0,
           0,
           0.7058823529411765,
           0.058823529411764705,
           0.11764705882352941,
           0,
           0,
           0,
           0.0784313725490196,
           0,
           0,
           0,
           0,
           0,
           0,
           0,
           -1
          ],
          [
           247245745,
           10,
           0,
           0.05868544600938967,
           0.023474178403755867,
           0.22887323943661972,
           0,
           0.24647887323943662,
           0.12323943661971831,
           0.09389671361502347,
           0,
           0,
           0.025821596244131457,
           0.023474178403755867,
           0,
           0,
           0,
           0,
           0,
           0.11737089201877934,
           0.05868544600938967,
           -1
          ],
          [
           247259373,
           2,
           0,
           0,
           0,
           0,
           0,
           0.75,
           0,
           0.25,
           0,
           0,
           0,
           0,
           0,
           0,
           0,
           0,
           0,
           0,
           0,
           1
          ],
          [
           247385729,
           4,
           0.08333333333333333,
           0,
           0,
           0,
           0,
           0.5,
           0,
           0.25,
           0,
           0,
           0,
           0.16666666666666666,
           0,
           0,
           0,
           0,
           0,
           0,
           0,
           -1
          ],
          [
           247429076,
           4,
           0,
           0,
           0.32,
           0,
           0.2,
           0.24,
           0,
           0.24,
           0,
           0,
           0,
           0,
           0,
           0,
           0,
           0,
           0,
           0,
           0,
           -1
          ],
          [
           247519693,
           10,
           0.032432432432432434,
           0.018018018018018018,
           0,
           0.03063063063063063,
           0,
           0.14054054054054055,
           0.08108108108108109,
           0.018018018018018018,
           0,
           0,
           0,
           0.021621621621621623,
           0,
           0.5405405405405406,
           0,
           0.06306306306306306,
           0,
           0,
           0.05405405405405406,
           -1
          ],
          [
           247541552,
           4,
           0.1,
           0,
           0,
           0.3,
           0,
           0.3,
           0,
           0.3,
           0,
           0,
           0,
           0,
           0,
           0,
           0,
           0,
           0,
           0,
           0,
           -1
          ],
          [
           247554114,
           8,
           0.04060913705583756,
           0,
           0,
           0.05583756345177665,
           0,
           0.4263959390862944,
           0.1218274111675127,
           0.06091370558375635,
           0,
           0.20304568527918782,
           0,
           0.04060913705583756,
           0,
           0,
           0,
           0,
           0,
           0,
           0.050761421319796954,
           -1
          ],
          [
           247607045,
           1,
           0,
           0,
           0,
           0,
           0,
           0,
           0,
           1,
           0,
           0,
           0,
           0,
           0,
           0,
           0,
           0,
           0,
           0,
           0,
           0
          ],
          [
           247639761,
           2,
           0,
           0,
           0,
           0,
           0,
           0.375,
           0,
           0.625,
           0,
           0,
           0,
           0,
           0,
           0,
           0,
           0,
           0,
           0,
           0,
           1
          ],
          [
           247730637,
           5,
           0,
           0,
           0.125,
           0.125,
           0,
           0.375,
           0,
           0,
           0,
           0,
           0,
           0.125,
           0,
           0,
           0,
           0,
           0.25,
           0,
           0,
           -1
          ],
          [
           247889464,
           1,
           0,
           0,
           0,
           0,
           0,
           0,
           0,
           1,
           0,
           0,
           0,
           0,
           0,
           0,
           0,
           0,
           0,
           0,
           0,
           0
          ],
          [
           247891505,
           11,
           0.09719222462203024,
           0.026997840172786176,
           0.06479481641468683,
           0.17548596112311016,
           0,
           0.2267818574514039,
           0.08909287257019438,
           0.05939524838012959,
           0,
           0.08099352051835854,
           0.011879049676025918,
           0.08639308855291576,
           0,
           0,
           0,
           0,
           0,
           0,
           0.08099352051835854,
           -1
          ],
          [
           248002368,
           6,
           0.06818181818181818,
           0,
           0.045454545454545456,
           0,
           0,
           0.20454545454545456,
           0,
           0.18181818181818182,
           0,
           0.45454545454545453,
           0,
           0.045454545454545456,
           0,
           0,
           0,
           0,
           0,
           0,
           0,
           -1
          ],
          [
           248038272,
           1,
           0,
           0,
           0,
           0,
           0,
           0,
           0,
           0,
           0,
           0,
           0,
           0,
           0,
           0,
           0,
           0,
           1,
           0,
           0,
           -1
          ],
          [
           248204440,
           6,
           0.24,
           0,
           0,
           0.1,
           0,
           0.12,
           0.06,
           0.4,
           0,
           0,
           0,
           0.08,
           0,
           0,
           0,
           0,
           0,
           0,
           0,
           -1
          ],
          [
           248252500,
           1,
           0,
           0,
           0,
           0,
           0,
           0,
           0,
           0,
           0,
           0,
           0,
           0,
           0,
           0,
           0,
           0,
           1,
           0,
           0,
           -1
          ],
          [
           248254743,
           1,
           0,
           0,
           0,
           0,
           0,
           0,
           0,
           0,
           0,
           0,
           0,
           0,
           0,
           0,
           0,
           0,
           1,
           0,
           0,
           -1
          ],
          [
           248273913,
           1,
           0,
           0,
           0,
           0,
           0,
           0,
           0,
           1,
           0,
           0,
           0,
           0,
           0,
           0,
           0,
           0,
           0,
           0,
           0,
           0
          ],
          [
           248279907,
           5,
           0,
           0,
           0.2222222222222222,
           0.2777777777777778,
           0,
           0.16666666666666666,
           0,
           0,
           0,
           0,
           0,
           0.1111111111111111,
           0,
           0,
           0,
           0,
           0.2222222222222222,
           0,
           0,
           -1
          ],
          [
           248324752,
           4,
           0,
           0,
           0.11764705882352941,
           0,
           0,
           0.5294117647058824,
           0,
           0,
           0,
           0,
           0,
           0.11764705882352941,
           0,
           0,
           0,
           0,
           0.23529411764705882,
           0,
           0,
           -1
          ],
          [
           248370145,
           3,
           0.058823529411764705,
           0,
           0,
           0,
           0,
           0.7058823529411765,
           0,
           0.23529411764705882,
           0,
           0,
           0,
           0,
           0,
           0,
           0,
           0,
           0,
           0,
           0,
           1
          ],
          [
           248372297,
           3,
           0.14285714285714285,
           0,
           0,
           0,
           0,
           0.42857142857142855,
           0,
           0.42857142857142855,
           0,
           0,
           0,
           0,
           0,
           0,
           0,
           0,
           0,
           0,
           0,
           -1
          ],
          [
           248372352,
           5,
           0.06451612903225806,
           0,
           0,
           0.3225806451612903,
           0,
           0.3870967741935484,
           0.0967741935483871,
           0,
           0,
           0,
           0,
           0.12903225806451613,
           0,
           0,
           0,
           0,
           0,
           0,
           0,
           -1
          ],
          [
           248374730,
           1,
           0,
           0,
           0,
           0,
           0,
           0,
           0,
           1,
           0,
           0,
           0,
           0,
           0,
           0,
           0,
           0,
           0,
           0,
           0,
           0
          ],
          [
           248417463,
           9,
           0.12682926829268293,
           0.04878048780487805,
           0.01951219512195122,
           0.04878048780487805,
           0,
           0.43902439024390244,
           0.13170731707317074,
           0.05853658536585366,
           0,
           0,
           0,
           0.07804878048780488,
           0,
           0,
           0,
           0,
           0,
           0,
           0.04878048780487805,
           -1
          ],
          [
           248469121,
           5,
           0,
           0,
           0.15384615384615385,
           0,
           0,
           0.23076923076923078,
           0,
           0.15384615384615385,
           0,
           0,
           0,
           0.15384615384615385,
           0,
           0,
           0,
           0,
           0.3076923076923077,
           0,
           0,
           -1
          ],
          [
           248487836,
           7,
           0.09411764705882353,
           0,
           0.18823529411764706,
           0.21176470588235294,
           0,
           0.07058823529411765,
           0.10588235294117647,
           0,
           0,
           0,
           0,
           0.23529411764705882,
           0,
           0,
           0,
           0,
           0.09411764705882353,
           0,
           0,
           -1
          ],
          [
           248489008,
           3,
           0,
           0,
           0.25,
           0,
           0,
           0,
           0,
           0,
           0,
           0,
           0,
           0.25,
           0,
           0,
           0,
           0,
           0.5,
           0,
           0,
           -1
          ],
          [
           248517296,
           9,
           0.06837606837606838,
           0,
           0.10256410256410256,
           0.18803418803418803,
           0,
           0.15384615384615385,
           0.07692307692307693,
           0.03418803418803419,
           0.17094017094017094,
           0,
           0,
           0.13675213675213677,
           0,
           0,
           0,
           0,
           0.06837606837606838,
           0,
           0,
           -1
          ],
          [
           248570086,
           5,
           0.1694915254237288,
           0,
           0,
           0.0847457627118644,
           0,
           0.4067796610169492,
           0,
           0.2033898305084746,
           0,
           0,
           0,
           0.13559322033898305,
           0,
           0,
           0,
           0,
           0,
           0,
           0,
           -1
          ],
          [
           248661731,
           3,
           0.16666666666666666,
           0,
           0.3333333333333333,
           0,
           0,
           0.5,
           0,
           0,
           0,
           0,
           0,
           0,
           0,
           0,
           0,
           0,
           0,
           0,
           0,
           -1
          ],
          [
           248754823,
           2,
           0,
           0,
           0.5,
           0,
           0,
           0,
           0,
           0.5,
           0,
           0,
           0,
           0,
           0,
           0,
           0,
           0,
           0,
           0,
           0,
           -1
          ],
          [
           248789755,
           4,
           0,
           0,
           0,
           0,
           0,
           0.34285714285714286,
           0.08571428571428572,
           0.2857142857142857,
           0,
           0,
           0,
           0,
           0,
           0,
           0,
           0.2857142857142857,
           0,
           0,
           0,
           -1
          ],
          [
           248876700,
           9,
           0.13664596273291926,
           0.062111801242236024,
           0.049689440993788817,
           0.10559006211180125,
           0,
           0.18633540372670807,
           0.11180124223602485,
           0.09937888198757763,
           0,
           0,
           0,
           0.12422360248447205,
           0,
           0,
           0,
           0,
           0,
           0,
           0.12422360248447205,
           -1
          ],
          [
           248880228,
           6,
           0.06666666666666667,
           0,
           0.06666666666666667,
           0.16666666666666666,
           0,
           0.4,
           0,
           0.16666666666666666,
           0,
           0,
           0,
           0.13333333333333333,
           0,
           0,
           0,
           0,
           0,
           0,
           0,
           -1
          ],
          [
           249085892,
           1,
           0,
           0,
           0,
           0,
           0,
           1,
           0,
           0,
           0,
           0,
           0,
           0,
           0,
           0,
           0,
           0,
           0,
           0,
           0,
           -1
          ],
          [
           249121520,
           2,
           0,
           0,
           0,
           0.5675675675675675,
           0,
           0,
           0,
           0.43243243243243246,
           0,
           0,
           0,
           0,
           0,
           0,
           0,
           0,
           0,
           0,
           0,
           -1
          ],
          [
           249274801,
           3,
           0.058823529411764705,
           0,
           0,
           0,
           0,
           0.7058823529411765,
           0,
           0.23529411764705882,
           0,
           0,
           0,
           0,
           0,
           0,
           0,
           0,
           0,
           0,
           0,
           1
          ],
          [
           249381550,
           6,
           0.028368794326241134,
           0.07092198581560284,
           0,
           0,
           0,
           0.5957446808510638,
           0.10638297872340426,
           0.1276595744680851,
           0,
           0,
           0,
           0,
           0,
           0,
           0,
           0.07092198581560284,
           0,
           0,
           0,
           -1
          ],
          [
           249499476,
           2,
           0,
           0,
           0.4,
           0,
           0,
           0.6,
           0,
           0,
           0,
           0,
           0,
           0,
           0,
           0,
           0,
           0,
           0,
           0,
           0,
           -1
          ],
          [
           249512616,
           8,
           0.07407407407407407,
           0.12345679012345678,
           0,
           0,
           0,
           0.14814814814814814,
           0.1111111111111111,
           0.12345679012345678,
           0,
           0,
           0,
           0.04938271604938271,
           0,
           0,
           0,
           0,
           0,
           0.24691358024691357,
           0.12345679012345678,
           -1
          ],
          [
           249525694,
           4,
           0,
           0,
           0.2222222222222222,
           0.2222222222222222,
           0,
           0.3333333333333333,
           0,
           0.2222222222222222,
           0,
           0,
           0,
           0,
           0,
           0,
           0,
           0,
           0,
           0,
           0,
           -1
          ],
          [
           249536077,
           3,
           0,
           0,
           0.07142857142857142,
           0,
           0,
           0,
           0,
           0.03571428571428571,
           0,
           0.8928571428571429,
           0,
           0,
           0,
           0,
           0,
           0,
           0,
           0,
           0,
           -1
          ],
          [
           249873210,
           4,
           0,
           0,
           0.3333333333333333,
           0.25,
           0,
           0.25,
           0,
           0.16666666666666666,
           0,
           0,
           0,
           0,
           0,
           0,
           0,
           0,
           0,
           0,
           0,
           -1
          ],
          [
           250041218,
           1,
           0,
           0,
           0,
           0,
           0,
           0,
           0,
           1,
           0,
           0,
           0,
           0,
           0,
           0,
           0,
           0,
           0,
           0,
           0,
           0
          ],
          [
           250044459,
           2,
           0.25,
           0,
           0,
           0,
           0,
           0.75,
           0,
           0,
           0,
           0,
           0,
           0,
           0,
           0,
           0,
           0,
           0,
           0,
           0,
           -1
          ],
          [
           250046964,
           3,
           0,
           0,
           0,
           0,
           0,
           0.6363636363636364,
           0.09090909090909091,
           0.2727272727272727,
           0,
           0,
           0,
           0,
           0,
           0,
           0,
           0,
           0,
           0,
           0,
           -1
          ],
          [
           250105364,
           3,
           0.043478260869565216,
           0,
           0,
           0,
           0,
           0.6521739130434783,
           0,
           0.30434782608695654,
           0,
           0,
           0,
           0,
           0,
           0,
           0,
           0,
           0,
           0,
           0,
           1
          ],
          [
           250149628,
           10,
           0.09174311926605505,
           0.045871559633027525,
           0.01834862385321101,
           0.04128440366972477,
           0,
           0.41284403669724773,
           0.17889908256880735,
           0.06422018348623854,
           0,
           0,
           0,
           0.05504587155963303,
           0,
           0,
           0,
           0.045871559633027525,
           0,
           0,
           0.045871559633027525,
           -1
          ],
          [
           250157927,
           3,
           0,
           0,
           0,
           0,
           0,
           0.21428571428571427,
           0,
           0.42857142857142855,
           0,
           0,
           0,
           0,
           0,
           0,
           0.35714285714285715,
           0,
           0,
           0,
           0,
           -1
          ],
          [
           250586772,
           3,
           0.1111111111111111,
           0,
           0,
           0,
           0,
           0.6666666666666666,
           0,
           0.2222222222222222,
           0,
           0,
           0,
           0,
           0,
           0,
           0,
           0,
           0,
           0,
           0,
           1
          ],
          [
           250586777,
           10,
           0.034722222222222224,
           0.05787037037037037,
           0,
           0,
           0,
           0.20833333333333334,
           0.20833333333333334,
           0.09259259259259259,
           0,
           0.23148148148148148,
           0.027777777777777776,
           0.023148148148148147,
           0,
           0,
           0,
           0.05787037037037037,
           0,
           0,
           0.05787037037037037,
           -1
          ],
          [
           250696764,
           10,
           0.125,
           0.044642857142857144,
           0.017857142857142856,
           0.10714285714285714,
           0,
           0.4017857142857143,
           0.10714285714285714,
           0.08035714285714286,
           0,
           0,
           0.017857142857142856,
           0.05357142857142857,
           0,
           0,
           0,
           0,
           0,
           0,
           0.044642857142857144,
           -1
          ],
          [
           250715895,
           6,
           0.022988505747126436,
           0,
           0,
           0.05747126436781609,
           0,
           0.13793103448275862,
           0,
           0.04597701149425287,
           0,
           0.6896551724137931,
           0,
           0.04597701149425287,
           0,
           0,
           0,
           0,
           0,
           0,
           0,
           -1
          ],
          [
           250874392,
           5,
           0.09090909090909091,
           0,
           0.18181818181818182,
           0.2727272727272727,
           0,
           0.2727272727272727,
           0,
           0.18181818181818182,
           0,
           0,
           0,
           0,
           0,
           0,
           0,
           0,
           0,
           0,
           0,
           -1
          ],
          [
           250987687,
           9,
           0.08571428571428572,
           0,
           0.11428571428571428,
           0.18571428571428572,
           0,
           0.12857142857142856,
           0.12857142857142856,
           0.05714285714285714,
           0,
           0.07142857142857142,
           0,
           0.17142857142857143,
           0,
           0,
           0,
           0,
           0.05714285714285714,
           0,
           0,
           -1
          ],
          [
           251745462,
           3,
           0.16666666666666666,
           0,
           0,
           0,
           0,
           0.5,
           0,
           0,
           0,
           0,
           0,
           0.3333333333333333,
           0,
           0,
           0,
           0,
           0,
           0,
           0,
           -1
          ],
          [
           252157908,
           1,
           0,
           0,
           0,
           0,
           0,
           0,
           0,
           1,
           0,
           0,
           0,
           0,
           0,
           0,
           0,
           0,
           0,
           0,
           0,
           0
          ],
          [
           252158644,
           3,
           0,
           0,
           0,
           0,
           0,
           0.4166666666666667,
           0,
           0.2777777777777778,
           0,
           0,
           0.3055555555555556,
           0,
           0,
           0,
           0,
           0,
           0,
           0,
           0,
           -1
          ],
          [
           252169829,
           9,
           0.08450704225352113,
           0.07042253521126761,
           0,
           0.04225352112676056,
           0,
           0.16901408450704225,
           0.04225352112676056,
           0.11267605633802817,
           0,
           0.352112676056338,
           0,
           0.056338028169014086,
           0,
           0,
           0,
           0,
           0,
           0,
           0.07042253521126761,
           -1
          ],
          [
           252188172,
           1,
           0,
           0,
           0,
           0,
           0,
           0,
           0,
           1,
           0,
           0,
           0,
           0,
           0,
           0,
           0,
           0,
           0,
           0,
           0,
           0
          ],
          [
           252223904,
           5,
           0,
           0,
           0,
           0.37037037037037035,
           0,
           0.2222222222222222,
           0.1111111111111111,
           0.14814814814814814,
           0,
           0,
           0,
           0.14814814814814814,
           0,
           0,
           0,
           0,
           0,
           0,
           0,
           -1
          ],
          [
           252224148,
           1,
           0,
           0,
           0,
           0,
           0,
           0,
           0,
           1,
           0,
           0,
           0,
           0,
           0,
           0,
           0,
           0,
           0,
           0,
           0,
           0
          ],
          [
           252313885,
           2,
           0,
           0,
           0,
           0,
           0,
           0,
           0,
           0.2857142857142857,
           0.7142857142857143,
           0,
           0,
           0,
           0,
           0,
           0,
           0,
           0,
           0,
           0,
           -1
          ],
          [
           252350779,
           8,
           0.06465517241379311,
           0,
           0.04310344827586207,
           0.2478448275862069,
           0,
           0.1939655172413793,
           0.12931034482758622,
           0.1939655172413793,
           0,
           0,
           0.040948275862068964,
           0.08620689655172414,
           0,
           0,
           0,
           0,
           0,
           0,
           0,
           -1
          ]
         ],
         "hovertemplate": "TotalCurrencyEarned=%{x}<br>EarnFrequency=%{y}<br>USER_ID=%{customdata[0]}<br>UniqueSources=%{customdata[1]}<br>Achievements=%{customdata[2]}<br>BattlePass_Tier0=%{customdata[3]}<br>BossIntroduction=%{customdata[4]}<br>ChapterRewards=%{customdata[5]}<br>CommunityPage=%{customdata[6]}<br>DailyFree=%{customdata[7]}<br>DailyQuest=%{customdata[8]}<br>DailyReward=%{customdata[9]}<br>EmailGift=%{customdata[10]}<br>GrowthFund=%{customdata[11]}<br>InGame=%{customdata[12]}<br>LevelUp=%{customdata[13]}<br>MonthlyDeal_Tier1=%{customdata[14]}<br>MonthlyDeal_Tier2=%{customdata[15]}<br>RedeemCode=%{customdata[16]}<br>ShopRoulette=%{customdata[17]}<br>StarterGem=%{customdata[18]}<br>ThreeDaysEvent=%{customdata[19]}<br>WeeklyQuest=%{customdata[20]}<br>Cluster=%{marker.color}<extra></extra>",
         "legendgroup": "",
         "marker": {
          "color": [
           1,
           0,
           1,
           0,
           -1,
           1,
           -1,
           -1,
           -1,
           -1,
           -1,
           -1,
           1,
           -1,
           -1,
           -1,
           -1,
           -1,
           -1,
           0,
           -1,
           -1,
           0,
           -1,
           -1,
           -1,
           1,
           0,
           -1,
           0,
           -1,
           -1,
           0,
           -1,
           -1,
           -1,
           -1,
           -1,
           0,
           -1,
           -1,
           -1,
           -1,
           1,
           -1,
           -1,
           -1,
           -1,
           1,
           -1,
           -1,
           -1,
           -1,
           -1,
           0,
           1,
           -1,
           0,
           -1,
           -1,
           -1,
           -1,
           -1,
           -1,
           0,
           -1,
           -1,
           1,
           -1,
           -1,
           0,
           -1,
           -1,
           -1,
           -1,
           -1,
           -1,
           -1,
           -1,
           -1,
           -1,
           -1,
           -1,
           -1,
           1,
           -1,
           -1,
           -1,
           -1,
           -1,
           -1,
           0,
           -1,
           -1,
           1,
           -1,
           -1,
           1,
           -1,
           -1,
           -1,
           -1,
           -1,
           -1,
           0,
           -1,
           -1,
           0,
           -1,
           0,
           -1,
           -1
          ],
          "coloraxis": "coloraxis",
          "symbol": "circle"
         },
         "mode": "markers",
         "name": "",
         "orientation": "v",
         "showlegend": false,
         "type": "scatter",
         "x": [
          80,
          20,
          110,
          70,
          460,
          110,
          680,
          130,
          40,
          110,
          485,
          4360,
          250,
          335,
          995,
          1480,
          1002,
          260,
          2464,
          20,
          160,
          1736,
          20,
          130,
          280,
          215,
          50,
          20,
          740,
          20,
          210,
          255,
          20,
          825,
          835,
          205,
          20,
          100,
          20,
          345,
          225,
          185,
          40,
          180,
          390,
          95,
          255,
          852,
          120,
          120,
          125,
          2775,
          100,
          985,
          50,
          80,
          160,
          20,
          1852,
          440,
          40,
          250,
          40,
          40,
          20,
          180,
          170,
          170,
          70,
          155,
          20,
          1025,
          130,
          425,
          80,
          585,
          295,
          60,
          40,
          175,
          805,
          300,
          30,
          185,
          170,
          705,
          50,
          405,
          90,
          560,
          120,
          50,
          40,
          330,
          230,
          1090,
          140,
          90,
          864,
          1120,
          435,
          110,
          700,
          60,
          20,
          72,
          710,
          60,
          135,
          20,
          140,
          464
         ],
         "xaxis": "x",
         "y": [
          3,
          1,
          4,
          2,
          12,
          5,
          27,
          5,
          2,
          4,
          12,
          38,
          10,
          13,
          32,
          21,
          35,
          11,
          53,
          1,
          6,
          67,
          1,
          6,
          11,
          11,
          2,
          1,
          22,
          1,
          9,
          10,
          1,
          41,
          36,
          11,
          1,
          5,
          1,
          13,
          10,
          3,
          2,
          9,
          15,
          5,
          11,
          28,
          5,
          6,
          6,
          50,
          5,
          33,
          1,
          2,
          6,
          1,
          75,
          12,
          1,
          14,
          1,
          1,
          1,
          7,
          6,
          7,
          4,
          7,
          1,
          49,
          5,
          21,
          3,
          24,
          15,
          3,
          2,
          5,
          35,
          12,
          1,
          8,
          7,
          24,
          2,
          15,
          4,
          7,
          5,
          1,
          2,
          12,
          8,
          45,
          4,
          4,
          26,
          49,
          7,
          5,
          33,
          3,
          1,
          3,
          21,
          2,
          6,
          1,
          3,
          21
         ],
         "yaxis": "y"
        }
       ],
       "layout": {
        "coloraxis": {
         "colorbar": {
          "title": {
           "text": "Cluster"
          }
         },
         "colorscale": [
          [
           0,
           "#0d0887"
          ],
          [
           0.1111111111111111,
           "#46039f"
          ],
          [
           0.2222222222222222,
           "#7201a8"
          ],
          [
           0.3333333333333333,
           "#9c179e"
          ],
          [
           0.4444444444444444,
           "#bd3786"
          ],
          [
           0.5555555555555556,
           "#d8576b"
          ],
          [
           0.6666666666666666,
           "#ed7953"
          ],
          [
           0.7777777777777778,
           "#fb9f3a"
          ],
          [
           0.8888888888888888,
           "#fdca26"
          ],
          [
           1,
           "#f0f921"
          ]
         ]
        },
        "legend": {
         "title": {
          "text": "Cluster"
         },
         "tracegroupgap": 0
        },
        "template": {
         "data": {
          "bar": [
           {
            "error_x": {
             "color": "#2a3f5f"
            },
            "error_y": {
             "color": "#2a3f5f"
            },
            "marker": {
             "line": {
              "color": "#E5ECF6",
              "width": 0.5
             },
             "pattern": {
              "fillmode": "overlay",
              "size": 10,
              "solidity": 0.2
             }
            },
            "type": "bar"
           }
          ],
          "barpolar": [
           {
            "marker": {
             "line": {
              "color": "#E5ECF6",
              "width": 0.5
             },
             "pattern": {
              "fillmode": "overlay",
              "size": 10,
              "solidity": 0.2
             }
            },
            "type": "barpolar"
           }
          ],
          "carpet": [
           {
            "aaxis": {
             "endlinecolor": "#2a3f5f",
             "gridcolor": "white",
             "linecolor": "white",
             "minorgridcolor": "white",
             "startlinecolor": "#2a3f5f"
            },
            "baxis": {
             "endlinecolor": "#2a3f5f",
             "gridcolor": "white",
             "linecolor": "white",
             "minorgridcolor": "white",
             "startlinecolor": "#2a3f5f"
            },
            "type": "carpet"
           }
          ],
          "choropleth": [
           {
            "colorbar": {
             "outlinewidth": 0,
             "ticks": ""
            },
            "type": "choropleth"
           }
          ],
          "contour": [
           {
            "colorbar": {
             "outlinewidth": 0,
             "ticks": ""
            },
            "colorscale": [
             [
              0,
              "#0d0887"
             ],
             [
              0.1111111111111111,
              "#46039f"
             ],
             [
              0.2222222222222222,
              "#7201a8"
             ],
             [
              0.3333333333333333,
              "#9c179e"
             ],
             [
              0.4444444444444444,
              "#bd3786"
             ],
             [
              0.5555555555555556,
              "#d8576b"
             ],
             [
              0.6666666666666666,
              "#ed7953"
             ],
             [
              0.7777777777777778,
              "#fb9f3a"
             ],
             [
              0.8888888888888888,
              "#fdca26"
             ],
             [
              1,
              "#f0f921"
             ]
            ],
            "type": "contour"
           }
          ],
          "contourcarpet": [
           {
            "colorbar": {
             "outlinewidth": 0,
             "ticks": ""
            },
            "type": "contourcarpet"
           }
          ],
          "heatmap": [
           {
            "colorbar": {
             "outlinewidth": 0,
             "ticks": ""
            },
            "colorscale": [
             [
              0,
              "#0d0887"
             ],
             [
              0.1111111111111111,
              "#46039f"
             ],
             [
              0.2222222222222222,
              "#7201a8"
             ],
             [
              0.3333333333333333,
              "#9c179e"
             ],
             [
              0.4444444444444444,
              "#bd3786"
             ],
             [
              0.5555555555555556,
              "#d8576b"
             ],
             [
              0.6666666666666666,
              "#ed7953"
             ],
             [
              0.7777777777777778,
              "#fb9f3a"
             ],
             [
              0.8888888888888888,
              "#fdca26"
             ],
             [
              1,
              "#f0f921"
             ]
            ],
            "type": "heatmap"
           }
          ],
          "heatmapgl": [
           {
            "colorbar": {
             "outlinewidth": 0,
             "ticks": ""
            },
            "colorscale": [
             [
              0,
              "#0d0887"
             ],
             [
              0.1111111111111111,
              "#46039f"
             ],
             [
              0.2222222222222222,
              "#7201a8"
             ],
             [
              0.3333333333333333,
              "#9c179e"
             ],
             [
              0.4444444444444444,
              "#bd3786"
             ],
             [
              0.5555555555555556,
              "#d8576b"
             ],
             [
              0.6666666666666666,
              "#ed7953"
             ],
             [
              0.7777777777777778,
              "#fb9f3a"
             ],
             [
              0.8888888888888888,
              "#fdca26"
             ],
             [
              1,
              "#f0f921"
             ]
            ],
            "type": "heatmapgl"
           }
          ],
          "histogram": [
           {
            "marker": {
             "pattern": {
              "fillmode": "overlay",
              "size": 10,
              "solidity": 0.2
             }
            },
            "type": "histogram"
           }
          ],
          "histogram2d": [
           {
            "colorbar": {
             "outlinewidth": 0,
             "ticks": ""
            },
            "colorscale": [
             [
              0,
              "#0d0887"
             ],
             [
              0.1111111111111111,
              "#46039f"
             ],
             [
              0.2222222222222222,
              "#7201a8"
             ],
             [
              0.3333333333333333,
              "#9c179e"
             ],
             [
              0.4444444444444444,
              "#bd3786"
             ],
             [
              0.5555555555555556,
              "#d8576b"
             ],
             [
              0.6666666666666666,
              "#ed7953"
             ],
             [
              0.7777777777777778,
              "#fb9f3a"
             ],
             [
              0.8888888888888888,
              "#fdca26"
             ],
             [
              1,
              "#f0f921"
             ]
            ],
            "type": "histogram2d"
           }
          ],
          "histogram2dcontour": [
           {
            "colorbar": {
             "outlinewidth": 0,
             "ticks": ""
            },
            "colorscale": [
             [
              0,
              "#0d0887"
             ],
             [
              0.1111111111111111,
              "#46039f"
             ],
             [
              0.2222222222222222,
              "#7201a8"
             ],
             [
              0.3333333333333333,
              "#9c179e"
             ],
             [
              0.4444444444444444,
              "#bd3786"
             ],
             [
              0.5555555555555556,
              "#d8576b"
             ],
             [
              0.6666666666666666,
              "#ed7953"
             ],
             [
              0.7777777777777778,
              "#fb9f3a"
             ],
             [
              0.8888888888888888,
              "#fdca26"
             ],
             [
              1,
              "#f0f921"
             ]
            ],
            "type": "histogram2dcontour"
           }
          ],
          "mesh3d": [
           {
            "colorbar": {
             "outlinewidth": 0,
             "ticks": ""
            },
            "type": "mesh3d"
           }
          ],
          "parcoords": [
           {
            "line": {
             "colorbar": {
              "outlinewidth": 0,
              "ticks": ""
             }
            },
            "type": "parcoords"
           }
          ],
          "pie": [
           {
            "automargin": true,
            "type": "pie"
           }
          ],
          "scatter": [
           {
            "fillpattern": {
             "fillmode": "overlay",
             "size": 10,
             "solidity": 0.2
            },
            "type": "scatter"
           }
          ],
          "scatter3d": [
           {
            "line": {
             "colorbar": {
              "outlinewidth": 0,
              "ticks": ""
             }
            },
            "marker": {
             "colorbar": {
              "outlinewidth": 0,
              "ticks": ""
             }
            },
            "type": "scatter3d"
           }
          ],
          "scattercarpet": [
           {
            "marker": {
             "colorbar": {
              "outlinewidth": 0,
              "ticks": ""
             }
            },
            "type": "scattercarpet"
           }
          ],
          "scattergeo": [
           {
            "marker": {
             "colorbar": {
              "outlinewidth": 0,
              "ticks": ""
             }
            },
            "type": "scattergeo"
           }
          ],
          "scattergl": [
           {
            "marker": {
             "colorbar": {
              "outlinewidth": 0,
              "ticks": ""
             }
            },
            "type": "scattergl"
           }
          ],
          "scattermapbox": [
           {
            "marker": {
             "colorbar": {
              "outlinewidth": 0,
              "ticks": ""
             }
            },
            "type": "scattermapbox"
           }
          ],
          "scatterpolar": [
           {
            "marker": {
             "colorbar": {
              "outlinewidth": 0,
              "ticks": ""
             }
            },
            "type": "scatterpolar"
           }
          ],
          "scatterpolargl": [
           {
            "marker": {
             "colorbar": {
              "outlinewidth": 0,
              "ticks": ""
             }
            },
            "type": "scatterpolargl"
           }
          ],
          "scatterternary": [
           {
            "marker": {
             "colorbar": {
              "outlinewidth": 0,
              "ticks": ""
             }
            },
            "type": "scatterternary"
           }
          ],
          "surface": [
           {
            "colorbar": {
             "outlinewidth": 0,
             "ticks": ""
            },
            "colorscale": [
             [
              0,
              "#0d0887"
             ],
             [
              0.1111111111111111,
              "#46039f"
             ],
             [
              0.2222222222222222,
              "#7201a8"
             ],
             [
              0.3333333333333333,
              "#9c179e"
             ],
             [
              0.4444444444444444,
              "#bd3786"
             ],
             [
              0.5555555555555556,
              "#d8576b"
             ],
             [
              0.6666666666666666,
              "#ed7953"
             ],
             [
              0.7777777777777778,
              "#fb9f3a"
             ],
             [
              0.8888888888888888,
              "#fdca26"
             ],
             [
              1,
              "#f0f921"
             ]
            ],
            "type": "surface"
           }
          ],
          "table": [
           {
            "cells": {
             "fill": {
              "color": "#EBF0F8"
             },
             "line": {
              "color": "white"
             }
            },
            "header": {
             "fill": {
              "color": "#C8D4E3"
             },
             "line": {
              "color": "white"
             }
            },
            "type": "table"
           }
          ]
         },
         "layout": {
          "annotationdefaults": {
           "arrowcolor": "#2a3f5f",
           "arrowhead": 0,
           "arrowwidth": 1
          },
          "autotypenumbers": "strict",
          "coloraxis": {
           "colorbar": {
            "outlinewidth": 0,
            "ticks": ""
           }
          },
          "colorscale": {
           "diverging": [
            [
             0,
             "#8e0152"
            ],
            [
             0.1,
             "#c51b7d"
            ],
            [
             0.2,
             "#de77ae"
            ],
            [
             0.3,
             "#f1b6da"
            ],
            [
             0.4,
             "#fde0ef"
            ],
            [
             0.5,
             "#f7f7f7"
            ],
            [
             0.6,
             "#e6f5d0"
            ],
            [
             0.7,
             "#b8e186"
            ],
            [
             0.8,
             "#7fbc41"
            ],
            [
             0.9,
             "#4d9221"
            ],
            [
             1,
             "#276419"
            ]
           ],
           "sequential": [
            [
             0,
             "#0d0887"
            ],
            [
             0.1111111111111111,
             "#46039f"
            ],
            [
             0.2222222222222222,
             "#7201a8"
            ],
            [
             0.3333333333333333,
             "#9c179e"
            ],
            [
             0.4444444444444444,
             "#bd3786"
            ],
            [
             0.5555555555555556,
             "#d8576b"
            ],
            [
             0.6666666666666666,
             "#ed7953"
            ],
            [
             0.7777777777777778,
             "#fb9f3a"
            ],
            [
             0.8888888888888888,
             "#fdca26"
            ],
            [
             1,
             "#f0f921"
            ]
           ],
           "sequentialminus": [
            [
             0,
             "#0d0887"
            ],
            [
             0.1111111111111111,
             "#46039f"
            ],
            [
             0.2222222222222222,
             "#7201a8"
            ],
            [
             0.3333333333333333,
             "#9c179e"
            ],
            [
             0.4444444444444444,
             "#bd3786"
            ],
            [
             0.5555555555555556,
             "#d8576b"
            ],
            [
             0.6666666666666666,
             "#ed7953"
            ],
            [
             0.7777777777777778,
             "#fb9f3a"
            ],
            [
             0.8888888888888888,
             "#fdca26"
            ],
            [
             1,
             "#f0f921"
            ]
           ]
          },
          "colorway": [
           "#636efa",
           "#EF553B",
           "#00cc96",
           "#ab63fa",
           "#FFA15A",
           "#19d3f3",
           "#FF6692",
           "#B6E880",
           "#FF97FF",
           "#FECB52"
          ],
          "font": {
           "color": "#2a3f5f"
          },
          "geo": {
           "bgcolor": "white",
           "lakecolor": "white",
           "landcolor": "#E5ECF6",
           "showlakes": true,
           "showland": true,
           "subunitcolor": "white"
          },
          "hoverlabel": {
           "align": "left"
          },
          "hovermode": "closest",
          "mapbox": {
           "style": "light"
          },
          "paper_bgcolor": "white",
          "plot_bgcolor": "#E5ECF6",
          "polar": {
           "angularaxis": {
            "gridcolor": "white",
            "linecolor": "white",
            "ticks": ""
           },
           "bgcolor": "#E5ECF6",
           "radialaxis": {
            "gridcolor": "white",
            "linecolor": "white",
            "ticks": ""
           }
          },
          "scene": {
           "xaxis": {
            "backgroundcolor": "#E5ECF6",
            "gridcolor": "white",
            "gridwidth": 2,
            "linecolor": "white",
            "showbackground": true,
            "ticks": "",
            "zerolinecolor": "white"
           },
           "yaxis": {
            "backgroundcolor": "#E5ECF6",
            "gridcolor": "white",
            "gridwidth": 2,
            "linecolor": "white",
            "showbackground": true,
            "ticks": "",
            "zerolinecolor": "white"
           },
           "zaxis": {
            "backgroundcolor": "#E5ECF6",
            "gridcolor": "white",
            "gridwidth": 2,
            "linecolor": "white",
            "showbackground": true,
            "ticks": "",
            "zerolinecolor": "white"
           }
          },
          "shapedefaults": {
           "line": {
            "color": "#2a3f5f"
           }
          },
          "ternary": {
           "aaxis": {
            "gridcolor": "white",
            "linecolor": "white",
            "ticks": ""
           },
           "baxis": {
            "gridcolor": "white",
            "linecolor": "white",
            "ticks": ""
           },
           "bgcolor": "#E5ECF6",
           "caxis": {
            "gridcolor": "white",
            "linecolor": "white",
            "ticks": ""
           }
          },
          "title": {
           "x": 0.05
          },
          "xaxis": {
           "automargin": true,
           "gridcolor": "white",
           "linecolor": "white",
           "ticks": "",
           "title": {
            "standoff": 15
           },
           "zerolinecolor": "white",
           "zerolinewidth": 2
          },
          "yaxis": {
           "automargin": true,
           "gridcolor": "white",
           "linecolor": "white",
           "ticks": "",
           "title": {
            "standoff": 15
           },
           "zerolinecolor": "white",
           "zerolinewidth": 2
          }
         }
        },
        "title": {
         "text": "All Clusters Overview"
        },
        "xaxis": {
         "anchor": "y",
         "domain": [
          0,
          1
         ],
         "title": {
          "text": "Total Currency Earned"
         }
        },
        "yaxis": {
         "anchor": "x",
         "domain": [
          0,
          1
         ],
         "title": {
          "text": "Earn Frequency"
         }
        }
       }
      }
     },
     "metadata": {},
     "output_type": "display_data"
    }
   ],
   "source": [
    "fig = px.scatter(\n",
    "    user_metrics, \n",
    "    x='TotalCurrencyEarned', \n",
    "    y='EarnFrequency', \n",
    "    color='Cluster',\n",
    "    hover_data=user_metrics.columns,\n",
    "    title=\"All Clusters Overview\"\n",
    ")\n",
    "\n",
    "fig.update_layout(\n",
    "    xaxis_title=\"Total Currency Earned\",\n",
    "    yaxis_title=\"Earn Frequency\",\n",
    "    legend_title=\"Cluster\"\n",
    ")\n",
    "\n",
    "fig.show()"
   ]
  },
  {
   "cell_type": "markdown",
   "metadata": {},
   "source": [
    "# DBCV"
   ]
  },
  {
   "cell_type": "code",
   "execution_count": 13,
   "metadata": {},
   "outputs": [
    {
     "name": "stdout",
     "output_type": "stream",
     "text": [
      "Best min_cluster_size: 4 with DBCV score: 0.26500128452345306\n"
     ]
    }
   ],
   "source": [
    "# Range of min_cluster_size values to test\n",
    "min_cluster_sizes = range(2, 51, 2)  # From 5 to 50 in steps of 5\n",
    "dbcv_scores = []\n",
    "\n",
    "for size in min_cluster_sizes:\n",
    "    clusterer = hdbscan.HDBSCAN(min_cluster_size=size, metric='euclidean')\n",
    "    labels = clusterer.fit_predict(features_scaled)\n",
    "    \n",
    "    # Compute DBCV only if there are multiple clusters formed\n",
    "    if len(set(labels)) > 1:  # Ensure we have meaningful clusters\n",
    "        dbcv = validity_index(features_scaled, labels, metric='euclidean')\n",
    "        dbcv_scores.append((size, dbcv))\n",
    "    else:\n",
    "        dbcv_scores.append((size, None))\n",
    "\n",
    "# Find the best min_cluster_size\n",
    "best_size, best_dbcv = max((s for s in dbcv_scores if s[1] is not None), key=lambda x: x[1])\n",
    "print(f\"Best min_cluster_size: {best_size} with DBCV score: {best_dbcv}\")"
   ]
  },
  {
   "cell_type": "code",
   "execution_count": 14,
   "metadata": {},
   "outputs": [
    {
     "data": {
      "application/vnd.plotly.v1+json": {
       "config": {
        "plotlyServerURL": "https://plot.ly"
       },
       "data": [
        {
         "line": {
          "color": "blue",
          "width": 2
         },
         "marker": {
          "color": "blue",
          "size": 8
         },
         "mode": "lines+markers",
         "name": "DBCV Score",
         "type": "scatter",
         "x": [
          2,
          4,
          6,
          8,
          10
         ],
         "y": [
          0.24846563992975165,
          0.26500128452345306,
          0.23259800418281806,
          0.21019428570946597,
          0.21503098082886385
         ]
        }
       ],
       "layout": {
        "height": 500,
        "template": {
         "data": {
          "bar": [
           {
            "error_x": {
             "color": "#2a3f5f"
            },
            "error_y": {
             "color": "#2a3f5f"
            },
            "marker": {
             "line": {
              "color": "white",
              "width": 0.5
             },
             "pattern": {
              "fillmode": "overlay",
              "size": 10,
              "solidity": 0.2
             }
            },
            "type": "bar"
           }
          ],
          "barpolar": [
           {
            "marker": {
             "line": {
              "color": "white",
              "width": 0.5
             },
             "pattern": {
              "fillmode": "overlay",
              "size": 10,
              "solidity": 0.2
             }
            },
            "type": "barpolar"
           }
          ],
          "carpet": [
           {
            "aaxis": {
             "endlinecolor": "#2a3f5f",
             "gridcolor": "#C8D4E3",
             "linecolor": "#C8D4E3",
             "minorgridcolor": "#C8D4E3",
             "startlinecolor": "#2a3f5f"
            },
            "baxis": {
             "endlinecolor": "#2a3f5f",
             "gridcolor": "#C8D4E3",
             "linecolor": "#C8D4E3",
             "minorgridcolor": "#C8D4E3",
             "startlinecolor": "#2a3f5f"
            },
            "type": "carpet"
           }
          ],
          "choropleth": [
           {
            "colorbar": {
             "outlinewidth": 0,
             "ticks": ""
            },
            "type": "choropleth"
           }
          ],
          "contour": [
           {
            "colorbar": {
             "outlinewidth": 0,
             "ticks": ""
            },
            "colorscale": [
             [
              0,
              "#0d0887"
             ],
             [
              0.1111111111111111,
              "#46039f"
             ],
             [
              0.2222222222222222,
              "#7201a8"
             ],
             [
              0.3333333333333333,
              "#9c179e"
             ],
             [
              0.4444444444444444,
              "#bd3786"
             ],
             [
              0.5555555555555556,
              "#d8576b"
             ],
             [
              0.6666666666666666,
              "#ed7953"
             ],
             [
              0.7777777777777778,
              "#fb9f3a"
             ],
             [
              0.8888888888888888,
              "#fdca26"
             ],
             [
              1,
              "#f0f921"
             ]
            ],
            "type": "contour"
           }
          ],
          "contourcarpet": [
           {
            "colorbar": {
             "outlinewidth": 0,
             "ticks": ""
            },
            "type": "contourcarpet"
           }
          ],
          "heatmap": [
           {
            "colorbar": {
             "outlinewidth": 0,
             "ticks": ""
            },
            "colorscale": [
             [
              0,
              "#0d0887"
             ],
             [
              0.1111111111111111,
              "#46039f"
             ],
             [
              0.2222222222222222,
              "#7201a8"
             ],
             [
              0.3333333333333333,
              "#9c179e"
             ],
             [
              0.4444444444444444,
              "#bd3786"
             ],
             [
              0.5555555555555556,
              "#d8576b"
             ],
             [
              0.6666666666666666,
              "#ed7953"
             ],
             [
              0.7777777777777778,
              "#fb9f3a"
             ],
             [
              0.8888888888888888,
              "#fdca26"
             ],
             [
              1,
              "#f0f921"
             ]
            ],
            "type": "heatmap"
           }
          ],
          "heatmapgl": [
           {
            "colorbar": {
             "outlinewidth": 0,
             "ticks": ""
            },
            "colorscale": [
             [
              0,
              "#0d0887"
             ],
             [
              0.1111111111111111,
              "#46039f"
             ],
             [
              0.2222222222222222,
              "#7201a8"
             ],
             [
              0.3333333333333333,
              "#9c179e"
             ],
             [
              0.4444444444444444,
              "#bd3786"
             ],
             [
              0.5555555555555556,
              "#d8576b"
             ],
             [
              0.6666666666666666,
              "#ed7953"
             ],
             [
              0.7777777777777778,
              "#fb9f3a"
             ],
             [
              0.8888888888888888,
              "#fdca26"
             ],
             [
              1,
              "#f0f921"
             ]
            ],
            "type": "heatmapgl"
           }
          ],
          "histogram": [
           {
            "marker": {
             "pattern": {
              "fillmode": "overlay",
              "size": 10,
              "solidity": 0.2
             }
            },
            "type": "histogram"
           }
          ],
          "histogram2d": [
           {
            "colorbar": {
             "outlinewidth": 0,
             "ticks": ""
            },
            "colorscale": [
             [
              0,
              "#0d0887"
             ],
             [
              0.1111111111111111,
              "#46039f"
             ],
             [
              0.2222222222222222,
              "#7201a8"
             ],
             [
              0.3333333333333333,
              "#9c179e"
             ],
             [
              0.4444444444444444,
              "#bd3786"
             ],
             [
              0.5555555555555556,
              "#d8576b"
             ],
             [
              0.6666666666666666,
              "#ed7953"
             ],
             [
              0.7777777777777778,
              "#fb9f3a"
             ],
             [
              0.8888888888888888,
              "#fdca26"
             ],
             [
              1,
              "#f0f921"
             ]
            ],
            "type": "histogram2d"
           }
          ],
          "histogram2dcontour": [
           {
            "colorbar": {
             "outlinewidth": 0,
             "ticks": ""
            },
            "colorscale": [
             [
              0,
              "#0d0887"
             ],
             [
              0.1111111111111111,
              "#46039f"
             ],
             [
              0.2222222222222222,
              "#7201a8"
             ],
             [
              0.3333333333333333,
              "#9c179e"
             ],
             [
              0.4444444444444444,
              "#bd3786"
             ],
             [
              0.5555555555555556,
              "#d8576b"
             ],
             [
              0.6666666666666666,
              "#ed7953"
             ],
             [
              0.7777777777777778,
              "#fb9f3a"
             ],
             [
              0.8888888888888888,
              "#fdca26"
             ],
             [
              1,
              "#f0f921"
             ]
            ],
            "type": "histogram2dcontour"
           }
          ],
          "mesh3d": [
           {
            "colorbar": {
             "outlinewidth": 0,
             "ticks": ""
            },
            "type": "mesh3d"
           }
          ],
          "parcoords": [
           {
            "line": {
             "colorbar": {
              "outlinewidth": 0,
              "ticks": ""
             }
            },
            "type": "parcoords"
           }
          ],
          "pie": [
           {
            "automargin": true,
            "type": "pie"
           }
          ],
          "scatter": [
           {
            "fillpattern": {
             "fillmode": "overlay",
             "size": 10,
             "solidity": 0.2
            },
            "type": "scatter"
           }
          ],
          "scatter3d": [
           {
            "line": {
             "colorbar": {
              "outlinewidth": 0,
              "ticks": ""
             }
            },
            "marker": {
             "colorbar": {
              "outlinewidth": 0,
              "ticks": ""
             }
            },
            "type": "scatter3d"
           }
          ],
          "scattercarpet": [
           {
            "marker": {
             "colorbar": {
              "outlinewidth": 0,
              "ticks": ""
             }
            },
            "type": "scattercarpet"
           }
          ],
          "scattergeo": [
           {
            "marker": {
             "colorbar": {
              "outlinewidth": 0,
              "ticks": ""
             }
            },
            "type": "scattergeo"
           }
          ],
          "scattergl": [
           {
            "marker": {
             "colorbar": {
              "outlinewidth": 0,
              "ticks": ""
             }
            },
            "type": "scattergl"
           }
          ],
          "scattermapbox": [
           {
            "marker": {
             "colorbar": {
              "outlinewidth": 0,
              "ticks": ""
             }
            },
            "type": "scattermapbox"
           }
          ],
          "scatterpolar": [
           {
            "marker": {
             "colorbar": {
              "outlinewidth": 0,
              "ticks": ""
             }
            },
            "type": "scatterpolar"
           }
          ],
          "scatterpolargl": [
           {
            "marker": {
             "colorbar": {
              "outlinewidth": 0,
              "ticks": ""
             }
            },
            "type": "scatterpolargl"
           }
          ],
          "scatterternary": [
           {
            "marker": {
             "colorbar": {
              "outlinewidth": 0,
              "ticks": ""
             }
            },
            "type": "scatterternary"
           }
          ],
          "surface": [
           {
            "colorbar": {
             "outlinewidth": 0,
             "ticks": ""
            },
            "colorscale": [
             [
              0,
              "#0d0887"
             ],
             [
              0.1111111111111111,
              "#46039f"
             ],
             [
              0.2222222222222222,
              "#7201a8"
             ],
             [
              0.3333333333333333,
              "#9c179e"
             ],
             [
              0.4444444444444444,
              "#bd3786"
             ],
             [
              0.5555555555555556,
              "#d8576b"
             ],
             [
              0.6666666666666666,
              "#ed7953"
             ],
             [
              0.7777777777777778,
              "#fb9f3a"
             ],
             [
              0.8888888888888888,
              "#fdca26"
             ],
             [
              1,
              "#f0f921"
             ]
            ],
            "type": "surface"
           }
          ],
          "table": [
           {
            "cells": {
             "fill": {
              "color": "#EBF0F8"
             },
             "line": {
              "color": "white"
             }
            },
            "header": {
             "fill": {
              "color": "#C8D4E3"
             },
             "line": {
              "color": "white"
             }
            },
            "type": "table"
           }
          ]
         },
         "layout": {
          "annotationdefaults": {
           "arrowcolor": "#2a3f5f",
           "arrowhead": 0,
           "arrowwidth": 1
          },
          "autotypenumbers": "strict",
          "coloraxis": {
           "colorbar": {
            "outlinewidth": 0,
            "ticks": ""
           }
          },
          "colorscale": {
           "diverging": [
            [
             0,
             "#8e0152"
            ],
            [
             0.1,
             "#c51b7d"
            ],
            [
             0.2,
             "#de77ae"
            ],
            [
             0.3,
             "#f1b6da"
            ],
            [
             0.4,
             "#fde0ef"
            ],
            [
             0.5,
             "#f7f7f7"
            ],
            [
             0.6,
             "#e6f5d0"
            ],
            [
             0.7,
             "#b8e186"
            ],
            [
             0.8,
             "#7fbc41"
            ],
            [
             0.9,
             "#4d9221"
            ],
            [
             1,
             "#276419"
            ]
           ],
           "sequential": [
            [
             0,
             "#0d0887"
            ],
            [
             0.1111111111111111,
             "#46039f"
            ],
            [
             0.2222222222222222,
             "#7201a8"
            ],
            [
             0.3333333333333333,
             "#9c179e"
            ],
            [
             0.4444444444444444,
             "#bd3786"
            ],
            [
             0.5555555555555556,
             "#d8576b"
            ],
            [
             0.6666666666666666,
             "#ed7953"
            ],
            [
             0.7777777777777778,
             "#fb9f3a"
            ],
            [
             0.8888888888888888,
             "#fdca26"
            ],
            [
             1,
             "#f0f921"
            ]
           ],
           "sequentialminus": [
            [
             0,
             "#0d0887"
            ],
            [
             0.1111111111111111,
             "#46039f"
            ],
            [
             0.2222222222222222,
             "#7201a8"
            ],
            [
             0.3333333333333333,
             "#9c179e"
            ],
            [
             0.4444444444444444,
             "#bd3786"
            ],
            [
             0.5555555555555556,
             "#d8576b"
            ],
            [
             0.6666666666666666,
             "#ed7953"
            ],
            [
             0.7777777777777778,
             "#fb9f3a"
            ],
            [
             0.8888888888888888,
             "#fdca26"
            ],
            [
             1,
             "#f0f921"
            ]
           ]
          },
          "colorway": [
           "#636efa",
           "#EF553B",
           "#00cc96",
           "#ab63fa",
           "#FFA15A",
           "#19d3f3",
           "#FF6692",
           "#B6E880",
           "#FF97FF",
           "#FECB52"
          ],
          "font": {
           "color": "#2a3f5f"
          },
          "geo": {
           "bgcolor": "white",
           "lakecolor": "white",
           "landcolor": "white",
           "showlakes": true,
           "showland": true,
           "subunitcolor": "#C8D4E3"
          },
          "hoverlabel": {
           "align": "left"
          },
          "hovermode": "closest",
          "mapbox": {
           "style": "light"
          },
          "paper_bgcolor": "white",
          "plot_bgcolor": "white",
          "polar": {
           "angularaxis": {
            "gridcolor": "#EBF0F8",
            "linecolor": "#EBF0F8",
            "ticks": ""
           },
           "bgcolor": "white",
           "radialaxis": {
            "gridcolor": "#EBF0F8",
            "linecolor": "#EBF0F8",
            "ticks": ""
           }
          },
          "scene": {
           "xaxis": {
            "backgroundcolor": "white",
            "gridcolor": "#DFE8F3",
            "gridwidth": 2,
            "linecolor": "#EBF0F8",
            "showbackground": true,
            "ticks": "",
            "zerolinecolor": "#EBF0F8"
           },
           "yaxis": {
            "backgroundcolor": "white",
            "gridcolor": "#DFE8F3",
            "gridwidth": 2,
            "linecolor": "#EBF0F8",
            "showbackground": true,
            "ticks": "",
            "zerolinecolor": "#EBF0F8"
           },
           "zaxis": {
            "backgroundcolor": "white",
            "gridcolor": "#DFE8F3",
            "gridwidth": 2,
            "linecolor": "#EBF0F8",
            "showbackground": true,
            "ticks": "",
            "zerolinecolor": "#EBF0F8"
           }
          },
          "shapedefaults": {
           "line": {
            "color": "#2a3f5f"
           }
          },
          "ternary": {
           "aaxis": {
            "gridcolor": "#DFE8F3",
            "linecolor": "#A2B1C6",
            "ticks": ""
           },
           "baxis": {
            "gridcolor": "#DFE8F3",
            "linecolor": "#A2B1C6",
            "ticks": ""
           },
           "bgcolor": "white",
           "caxis": {
            "gridcolor": "#DFE8F3",
            "linecolor": "#A2B1C6",
            "ticks": ""
           }
          },
          "title": {
           "x": 0.05
          },
          "xaxis": {
           "automargin": true,
           "gridcolor": "#EBF0F8",
           "linecolor": "#EBF0F8",
           "ticks": "",
           "title": {
            "standoff": 15
           },
           "zerolinecolor": "#EBF0F8",
           "zerolinewidth": 2
          },
          "yaxis": {
           "automargin": true,
           "gridcolor": "#EBF0F8",
           "linecolor": "#EBF0F8",
           "ticks": "",
           "title": {
            "standoff": 15
           },
           "zerolinecolor": "#EBF0F8",
           "zerolinewidth": 2
          }
         }
        },
        "title": {
         "text": "DBCV Score vs. min_cluster_size"
        },
        "width": 800,
        "xaxis": {
         "title": {
          "text": "min_cluster_size"
         }
        },
        "yaxis": {
         "title": {
          "text": "DBCV Score"
         }
        }
       }
      }
     },
     "metadata": {},
     "output_type": "display_data"
    }
   ],
   "source": [
    "# Create the line plot using Plotly\n",
    "fig = go.Figure()\n",
    "\n",
    "# Extract valid scores for plotting\n",
    "valid_sizes = [size for size, dbcv in dbcv_scores if dbcv is not None]\n",
    "valid_dbcvs = [dbcv for size, dbcv in dbcv_scores if dbcv is not None]\n",
    "\n",
    "\n",
    "fig.add_trace(go.Scatter(\n",
    "    x=valid_sizes,\n",
    "    y=valid_dbcvs,\n",
    "    mode='lines+markers',\n",
    "    marker=dict(size=8, color='blue'),\n",
    "    line=dict(width=2, color='blue'),\n",
    "    name='DBCV Score'\n",
    "))\n",
    "\n",
    "# Add titles and axis labels\n",
    "fig.update_layout(\n",
    "    title=\"DBCV Score vs. min_cluster_size\",\n",
    "    xaxis=dict(title=\"min_cluster_size\"),\n",
    "    yaxis=dict(title=\"DBCV Score\"),\n",
    "    template=\"plotly_white\",\n",
    "    width=800,\n",
    "    height=500\n",
    ")\n",
    "\n",
    "# Show the Plotly plot\n",
    "fig.show()"
   ]
  },
  {
   "cell_type": "code",
   "execution_count": 15,
   "metadata": {},
   "outputs": [],
   "source": [
    "clusterer = hdbscan.HDBSCAN(min_cluster_size=best_size, metric='euclidean')\n",
    "user_metrics['Cluster'] = clusterer.fit_predict(features_scaled)"
   ]
  },
  {
   "cell_type": "markdown",
   "metadata": {},
   "source": [
    "Cluster 1 - Low Activity Users:\n",
    "\n",
    "TotalCurrencyEarned: 20.0\n",
    "EarnFrequency: 1 (This user earns currency infrequently, just once in the data).\n",
    "UniqueSources: 1 (The user earned from a single source).\n",
    "This cluster might represent low-engagement users or users who don't frequently interact with the game's currency earning features. They could be users who are new to the game or not very active.\n",
    "\n",
    "Cluster 2 - Medium Activity Users:\n",
    "\n",
    "TotalCurrencyEarned: 80.0 to 110.0\n",
    "EarnFrequency: 3 to 4 (These users earn currency 3 to 4 times, indicating moderate interaction with the game).\n",
    "UniqueSources: 2 (They earn from multiple sources).\n",
    "This cluster likely represents moderate-engagement users. They are more involved in the game than those in Cluster 1, earning from multiple sources and participating in events with moderate frequency. They could be regular users who are interested in progressing through the game but may not be heavily invested.\n",
    "\n",
    "Cluster 3 - High Activity Users:\n",
    "\n",
    "These users would likely have high total currency earned, frequent earnings, and engagement with multiple sources.\n",
    "We would expect them to be highly involved, possibly spending more time on the game, completing a variety of tasks, and engaging with both in-game activities and promotions."
   ]
  },
  {
   "cell_type": "code",
   "execution_count": 90,
   "metadata": {},
   "outputs": [
    {
     "data": {
      "text/html": [
       "<div>\n",
       "<style scoped>\n",
       "    .dataframe tbody tr th:only-of-type {\n",
       "        vertical-align: middle;\n",
       "    }\n",
       "\n",
       "    .dataframe tbody tr th {\n",
       "        vertical-align: top;\n",
       "    }\n",
       "\n",
       "    .dataframe thead th {\n",
       "        text-align: right;\n",
       "    }\n",
       "</style>\n",
       "<table border=\"1\" class=\"dataframe\">\n",
       "  <thead>\n",
       "    <tr style=\"text-align: right;\">\n",
       "      <th></th>\n",
       "      <th>USER_ID</th>\n",
       "      <th>TotalCurrencyEarned</th>\n",
       "      <th>EarnFrequency</th>\n",
       "      <th>UniqueSources</th>\n",
       "      <th>Achievements</th>\n",
       "      <th>BattlePass_Tier0</th>\n",
       "      <th>BossIntroduction</th>\n",
       "      <th>ChapterRewards</th>\n",
       "      <th>CommunityPage</th>\n",
       "      <th>DailyFree</th>\n",
       "      <th>...</th>\n",
       "      <th>InGame</th>\n",
       "      <th>LevelUp</th>\n",
       "      <th>MonthlyDeal_Tier1</th>\n",
       "      <th>MonthlyDeal_Tier2</th>\n",
       "      <th>RedeemCode</th>\n",
       "      <th>ShopRoulette</th>\n",
       "      <th>StarterGem</th>\n",
       "      <th>ThreeDaysEvent</th>\n",
       "      <th>WeeklyQuest</th>\n",
       "      <th>Cluster</th>\n",
       "    </tr>\n",
       "  </thead>\n",
       "  <tbody>\n",
       "    <tr>\n",
       "      <th>0</th>\n",
       "      <td>240748227</td>\n",
       "      <td>80.0</td>\n",
       "      <td>3</td>\n",
       "      <td>2</td>\n",
       "      <td>0.000000</td>\n",
       "      <td>0.0</td>\n",
       "      <td>0.000000</td>\n",
       "      <td>0.000000</td>\n",
       "      <td>0.0</td>\n",
       "      <td>0.750000</td>\n",
       "      <td>...</td>\n",
       "      <td>0.000000</td>\n",
       "      <td>0.000000</td>\n",
       "      <td>0.0</td>\n",
       "      <td>0.0</td>\n",
       "      <td>0.0</td>\n",
       "      <td>0.0</td>\n",
       "      <td>0.0</td>\n",
       "      <td>0.0</td>\n",
       "      <td>0.0</td>\n",
       "      <td>2</td>\n",
       "    </tr>\n",
       "    <tr>\n",
       "      <th>1</th>\n",
       "      <td>242208421</td>\n",
       "      <td>20.0</td>\n",
       "      <td>1</td>\n",
       "      <td>1</td>\n",
       "      <td>0.000000</td>\n",
       "      <td>0.0</td>\n",
       "      <td>0.000000</td>\n",
       "      <td>0.000000</td>\n",
       "      <td>0.0</td>\n",
       "      <td>0.000000</td>\n",
       "      <td>...</td>\n",
       "      <td>0.000000</td>\n",
       "      <td>0.000000</td>\n",
       "      <td>0.0</td>\n",
       "      <td>0.0</td>\n",
       "      <td>0.0</td>\n",
       "      <td>0.0</td>\n",
       "      <td>0.0</td>\n",
       "      <td>0.0</td>\n",
       "      <td>0.0</td>\n",
       "      <td>1</td>\n",
       "    </tr>\n",
       "    <tr>\n",
       "      <th>2</th>\n",
       "      <td>242499511</td>\n",
       "      <td>110.0</td>\n",
       "      <td>4</td>\n",
       "      <td>2</td>\n",
       "      <td>0.000000</td>\n",
       "      <td>0.0</td>\n",
       "      <td>0.000000</td>\n",
       "      <td>0.000000</td>\n",
       "      <td>0.0</td>\n",
       "      <td>0.818182</td>\n",
       "      <td>...</td>\n",
       "      <td>0.000000</td>\n",
       "      <td>0.000000</td>\n",
       "      <td>0.0</td>\n",
       "      <td>0.0</td>\n",
       "      <td>0.0</td>\n",
       "      <td>0.0</td>\n",
       "      <td>0.0</td>\n",
       "      <td>0.0</td>\n",
       "      <td>0.0</td>\n",
       "      <td>2</td>\n",
       "    </tr>\n",
       "    <tr>\n",
       "      <th>3</th>\n",
       "      <td>242722793</td>\n",
       "      <td>70.0</td>\n",
       "      <td>2</td>\n",
       "      <td>1</td>\n",
       "      <td>0.000000</td>\n",
       "      <td>0.0</td>\n",
       "      <td>0.000000</td>\n",
       "      <td>0.000000</td>\n",
       "      <td>0.0</td>\n",
       "      <td>0.000000</td>\n",
       "      <td>...</td>\n",
       "      <td>0.000000</td>\n",
       "      <td>0.000000</td>\n",
       "      <td>0.0</td>\n",
       "      <td>0.0</td>\n",
       "      <td>0.0</td>\n",
       "      <td>0.0</td>\n",
       "      <td>0.0</td>\n",
       "      <td>0.0</td>\n",
       "      <td>0.0</td>\n",
       "      <td>1</td>\n",
       "    </tr>\n",
       "    <tr>\n",
       "      <th>4</th>\n",
       "      <td>242873382</td>\n",
       "      <td>460.0</td>\n",
       "      <td>12</td>\n",
       "      <td>6</td>\n",
       "      <td>0.065217</td>\n",
       "      <td>0.0</td>\n",
       "      <td>0.000000</td>\n",
       "      <td>0.065217</td>\n",
       "      <td>0.0</td>\n",
       "      <td>0.260870</td>\n",
       "      <td>...</td>\n",
       "      <td>0.000000</td>\n",
       "      <td>0.043478</td>\n",
       "      <td>0.0</td>\n",
       "      <td>0.0</td>\n",
       "      <td>0.0</td>\n",
       "      <td>0.0</td>\n",
       "      <td>0.0</td>\n",
       "      <td>0.0</td>\n",
       "      <td>0.0</td>\n",
       "      <td>-1</td>\n",
       "    </tr>\n",
       "    <tr>\n",
       "      <th>...</th>\n",
       "      <td>...</td>\n",
       "      <td>...</td>\n",
       "      <td>...</td>\n",
       "      <td>...</td>\n",
       "      <td>...</td>\n",
       "      <td>...</td>\n",
       "      <td>...</td>\n",
       "      <td>...</td>\n",
       "      <td>...</td>\n",
       "      <td>...</td>\n",
       "      <td>...</td>\n",
       "      <td>...</td>\n",
       "      <td>...</td>\n",
       "      <td>...</td>\n",
       "      <td>...</td>\n",
       "      <td>...</td>\n",
       "      <td>...</td>\n",
       "      <td>...</td>\n",
       "      <td>...</td>\n",
       "      <td>...</td>\n",
       "      <td>...</td>\n",
       "    </tr>\n",
       "    <tr>\n",
       "      <th>107</th>\n",
       "      <td>252188172</td>\n",
       "      <td>60.0</td>\n",
       "      <td>2</td>\n",
       "      <td>1</td>\n",
       "      <td>0.000000</td>\n",
       "      <td>0.0</td>\n",
       "      <td>0.000000</td>\n",
       "      <td>0.000000</td>\n",
       "      <td>0.0</td>\n",
       "      <td>0.000000</td>\n",
       "      <td>...</td>\n",
       "      <td>0.000000</td>\n",
       "      <td>0.000000</td>\n",
       "      <td>0.0</td>\n",
       "      <td>0.0</td>\n",
       "      <td>0.0</td>\n",
       "      <td>0.0</td>\n",
       "      <td>0.0</td>\n",
       "      <td>0.0</td>\n",
       "      <td>0.0</td>\n",
       "      <td>1</td>\n",
       "    </tr>\n",
       "    <tr>\n",
       "      <th>108</th>\n",
       "      <td>252223904</td>\n",
       "      <td>135.0</td>\n",
       "      <td>6</td>\n",
       "      <td>5</td>\n",
       "      <td>0.000000</td>\n",
       "      <td>0.0</td>\n",
       "      <td>0.000000</td>\n",
       "      <td>0.370370</td>\n",
       "      <td>0.0</td>\n",
       "      <td>0.222222</td>\n",
       "      <td>...</td>\n",
       "      <td>0.000000</td>\n",
       "      <td>0.148148</td>\n",
       "      <td>0.0</td>\n",
       "      <td>0.0</td>\n",
       "      <td>0.0</td>\n",
       "      <td>0.0</td>\n",
       "      <td>0.0</td>\n",
       "      <td>0.0</td>\n",
       "      <td>0.0</td>\n",
       "      <td>-1</td>\n",
       "    </tr>\n",
       "    <tr>\n",
       "      <th>109</th>\n",
       "      <td>252224148</td>\n",
       "      <td>20.0</td>\n",
       "      <td>1</td>\n",
       "      <td>1</td>\n",
       "      <td>0.000000</td>\n",
       "      <td>0.0</td>\n",
       "      <td>0.000000</td>\n",
       "      <td>0.000000</td>\n",
       "      <td>0.0</td>\n",
       "      <td>0.000000</td>\n",
       "      <td>...</td>\n",
       "      <td>0.000000</td>\n",
       "      <td>0.000000</td>\n",
       "      <td>0.0</td>\n",
       "      <td>0.0</td>\n",
       "      <td>0.0</td>\n",
       "      <td>0.0</td>\n",
       "      <td>0.0</td>\n",
       "      <td>0.0</td>\n",
       "      <td>0.0</td>\n",
       "      <td>1</td>\n",
       "    </tr>\n",
       "    <tr>\n",
       "      <th>110</th>\n",
       "      <td>252313885</td>\n",
       "      <td>140.0</td>\n",
       "      <td>3</td>\n",
       "      <td>2</td>\n",
       "      <td>0.000000</td>\n",
       "      <td>0.0</td>\n",
       "      <td>0.000000</td>\n",
       "      <td>0.000000</td>\n",
       "      <td>0.0</td>\n",
       "      <td>0.000000</td>\n",
       "      <td>...</td>\n",
       "      <td>0.000000</td>\n",
       "      <td>0.000000</td>\n",
       "      <td>0.0</td>\n",
       "      <td>0.0</td>\n",
       "      <td>0.0</td>\n",
       "      <td>0.0</td>\n",
       "      <td>0.0</td>\n",
       "      <td>0.0</td>\n",
       "      <td>0.0</td>\n",
       "      <td>-1</td>\n",
       "    </tr>\n",
       "    <tr>\n",
       "      <th>111</th>\n",
       "      <td>252350779</td>\n",
       "      <td>464.0</td>\n",
       "      <td>21</td>\n",
       "      <td>8</td>\n",
       "      <td>0.064655</td>\n",
       "      <td>0.0</td>\n",
       "      <td>0.043103</td>\n",
       "      <td>0.247845</td>\n",
       "      <td>0.0</td>\n",
       "      <td>0.193966</td>\n",
       "      <td>...</td>\n",
       "      <td>0.040948</td>\n",
       "      <td>0.086207</td>\n",
       "      <td>0.0</td>\n",
       "      <td>0.0</td>\n",
       "      <td>0.0</td>\n",
       "      <td>0.0</td>\n",
       "      <td>0.0</td>\n",
       "      <td>0.0</td>\n",
       "      <td>0.0</td>\n",
       "      <td>-1</td>\n",
       "    </tr>\n",
       "  </tbody>\n",
       "</table>\n",
       "<p>112 rows × 24 columns</p>\n",
       "</div>"
      ],
      "text/plain": [
       "       USER_ID  TotalCurrencyEarned  EarnFrequency  UniqueSources  \\\n",
       "0    240748227                 80.0              3              2   \n",
       "1    242208421                 20.0              1              1   \n",
       "2    242499511                110.0              4              2   \n",
       "3    242722793                 70.0              2              1   \n",
       "4    242873382                460.0             12              6   \n",
       "..         ...                  ...            ...            ...   \n",
       "107  252188172                 60.0              2              1   \n",
       "108  252223904                135.0              6              5   \n",
       "109  252224148                 20.0              1              1   \n",
       "110  252313885                140.0              3              2   \n",
       "111  252350779                464.0             21              8   \n",
       "\n",
       "     Achievements  BattlePass_Tier0  BossIntroduction  ChapterRewards  \\\n",
       "0        0.000000               0.0          0.000000        0.000000   \n",
       "1        0.000000               0.0          0.000000        0.000000   \n",
       "2        0.000000               0.0          0.000000        0.000000   \n",
       "3        0.000000               0.0          0.000000        0.000000   \n",
       "4        0.065217               0.0          0.000000        0.065217   \n",
       "..            ...               ...               ...             ...   \n",
       "107      0.000000               0.0          0.000000        0.000000   \n",
       "108      0.000000               0.0          0.000000        0.370370   \n",
       "109      0.000000               0.0          0.000000        0.000000   \n",
       "110      0.000000               0.0          0.000000        0.000000   \n",
       "111      0.064655               0.0          0.043103        0.247845   \n",
       "\n",
       "     CommunityPage  DailyFree  ...    InGame   LevelUp  MonthlyDeal_Tier1  \\\n",
       "0              0.0   0.750000  ...  0.000000  0.000000                0.0   \n",
       "1              0.0   0.000000  ...  0.000000  0.000000                0.0   \n",
       "2              0.0   0.818182  ...  0.000000  0.000000                0.0   \n",
       "3              0.0   0.000000  ...  0.000000  0.000000                0.0   \n",
       "4              0.0   0.260870  ...  0.000000  0.043478                0.0   \n",
       "..             ...        ...  ...       ...       ...                ...   \n",
       "107            0.0   0.000000  ...  0.000000  0.000000                0.0   \n",
       "108            0.0   0.222222  ...  0.000000  0.148148                0.0   \n",
       "109            0.0   0.000000  ...  0.000000  0.000000                0.0   \n",
       "110            0.0   0.000000  ...  0.000000  0.000000                0.0   \n",
       "111            0.0   0.193966  ...  0.040948  0.086207                0.0   \n",
       "\n",
       "     MonthlyDeal_Tier2  RedeemCode  ShopRoulette  StarterGem  ThreeDaysEvent  \\\n",
       "0                  0.0         0.0           0.0         0.0             0.0   \n",
       "1                  0.0         0.0           0.0         0.0             0.0   \n",
       "2                  0.0         0.0           0.0         0.0             0.0   \n",
       "3                  0.0         0.0           0.0         0.0             0.0   \n",
       "4                  0.0         0.0           0.0         0.0             0.0   \n",
       "..                 ...         ...           ...         ...             ...   \n",
       "107                0.0         0.0           0.0         0.0             0.0   \n",
       "108                0.0         0.0           0.0         0.0             0.0   \n",
       "109                0.0         0.0           0.0         0.0             0.0   \n",
       "110                0.0         0.0           0.0         0.0             0.0   \n",
       "111                0.0         0.0           0.0         0.0             0.0   \n",
       "\n",
       "     WeeklyQuest  Cluster  \n",
       "0            0.0        2  \n",
       "1            0.0        1  \n",
       "2            0.0        2  \n",
       "3            0.0        1  \n",
       "4            0.0       -1  \n",
       "..           ...      ...  \n",
       "107          0.0        1  \n",
       "108          0.0       -1  \n",
       "109          0.0        1  \n",
       "110          0.0       -1  \n",
       "111          0.0       -1  \n",
       "\n",
       "[112 rows x 24 columns]"
      ]
     },
     "execution_count": 90,
     "metadata": {},
     "output_type": "execute_result"
    }
   ],
   "source": [
    "user_metrics"
   ]
  },
  {
   "cell_type": "code",
   "execution_count": 16,
   "metadata": {},
   "outputs": [
    {
     "name": "stdout",
     "output_type": "stream",
     "text": [
      "   Cluster  TotalCurrencyEarned  EarnFrequency  UniqueSources  Achievements  \\\n",
      "0       -1           500.384615      14.584615       5.446154      0.053805   \n",
      "1        0          1130.200000      47.400000       9.600000      0.103643   \n",
      "2        1            29.375000       1.125000       1.000000      0.000000   \n",
      "3        2           166.923077       7.038462       3.615385      0.060215   \n",
      "\n",
      "   BattlePass_Tier0  BossIntroduction  ChapterRewards  CommunityPage  \\\n",
      "0          0.009698          0.073930        0.118262       0.003389   \n",
      "1          0.048325          0.022664        0.056147       0.000000   \n",
      "2          0.000000          0.000000        0.000000       0.000000   \n",
      "3          0.000000          0.026659        0.024668       0.000000   \n",
      "\n",
      "   DailyFree  ...  GrowthFund    InGame   LevelUp  MonthlyDeal_Tier1  \\\n",
      "0   0.258689  ...    0.073537  0.009711  0.059443           0.006393   \n",
      "1   0.405000  ...    0.017281  0.011175  0.059345           0.000000   \n",
      "2   0.000000  ...    0.000000  0.000000  0.000000           0.000000   \n",
      "3   0.553018  ...    0.000000  0.000000  0.065595           0.000000   \n",
      "\n",
      "   MonthlyDeal_Tier2  RedeemCode  ShopRoulette  StarterGem  ThreeDaysEvent  \\\n",
      "0           0.027199    0.005495      0.023390    0.072844         0.00931   \n",
      "1           0.000000    0.000000      0.014935    0.000000         0.00000   \n",
      "2           0.000000    0.000000      0.000000    0.000000         0.00000   \n",
      "3           0.000000    0.000000      0.000000    0.035436         0.00000   \n",
      "\n",
      "   WeeklyQuest  \n",
      "0     0.017032  \n",
      "1     0.059846  \n",
      "2     0.000000  \n",
      "3     0.000000  \n",
      "\n",
      "[4 rows x 23 columns]\n"
     ]
    }
   ],
   "source": [
    "# Select only the columns that are relevant for aggregation (excluding non-numeric columns like 'USER_ID' and 'Cluster')\n",
    "numeric_columns = user_metrics.select_dtypes(include=['float64', 'int64']).columns\n",
    "\n",
    "# Remove 'USER_ID' and 'Cluster' from the list of columns to aggregate\n",
    "columns_to_aggregate = [col for col in numeric_columns if col not in ['USER_ID', 'Cluster']]\n",
    "\n",
    "# Perform the aggregation\n",
    "cluster_analysis = user_metrics.groupby('Cluster')[columns_to_aggregate].agg('mean').reset_index()\n",
    "\n",
    "print(cluster_analysis)"
   ]
  },
  {
   "cell_type": "markdown",
   "metadata": {},
   "source": [
    "Possible Interpretation:\n",
    "* Cluster -1: Outliers or noise (high currency earned but low engagement), may need further investigation to understand why they don't follow typical engagement patterns.\n",
    "* Cluster 0: Highly engaged users, likely to be your core users, those who are highly active and have significant in-game activity.\n",
    "* Cluster 1: Casual users or those with minimal engagement. Consider these users as potential targets for re-engagement campaigns.\n",
    "* Cluster 2: Intermediate users who are moderately engaged but could potentially be pushed towards higher engagement. They may require additional incentives or features to increase their activity levels."
   ]
  },
  {
   "cell_type": "markdown",
   "metadata": {},
   "source": [
    "Choosing Between K-means and HDBSCAN\n",
    "Use K-means if:\n",
    "\n",
    "* The data has spherical clusters of similar sizes.\n",
    "* You know the number of clusters in advance.\n",
    "* Speed and simplicity are priorities.\n",
    "\n",
    "Use HDBSCAN if:\n",
    "\n",
    "* Clusters are irregularly shaped or have varying densities.\n",
    "* You need robustness against noise and outliers.\n",
    "* The number of clusters is unknown or difficult to define."
   ]
  },
  {
   "cell_type": "markdown",
   "metadata": {},
   "source": [
    "# Visuals Of Cluster"
   ]
  },
  {
   "cell_type": "code",
   "execution_count": null,
   "metadata": {},
   "outputs": [
    {
     "data": {
      "application/vnd.plotly.v1+json": {
       "config": {
        "plotlyServerURL": "https://plot.ly"
       },
       "data": [
        {
         "name": "TotalCurrencyEarned",
         "type": "bar",
         "x": [
          -1,
          0,
          1,
          2
         ],
         "xaxis": "x",
         "y": [
          500.38461538461536,
          1130.2,
          29.375,
          166.92307692307693
         ],
         "yaxis": "y"
        },
        {
         "name": "EarnFrequency",
         "type": "bar",
         "x": [
          -1,
          0,
          1,
          2
         ],
         "xaxis": "x2",
         "y": [
          14.584615384615384,
          47.4,
          1.125,
          7.038461538461538
         ],
         "yaxis": "y2"
        },
        {
         "name": "UniqueSources",
         "type": "bar",
         "x": [
          -1,
          0,
          1,
          2
         ],
         "xaxis": "x3",
         "y": [
          5.446153846153846,
          9.6,
          1,
          3.6153846153846154
         ],
         "yaxis": "y3"
        }
       ],
       "layout": {
        "annotations": [
         {
          "font": {
           "size": 16
          },
          "showarrow": false,
          "text": "TotalCurrencyEarned",
          "x": 0.14444444444444446,
          "xanchor": "center",
          "xref": "paper",
          "y": 1,
          "yanchor": "bottom",
          "yref": "paper"
         },
         {
          "font": {
           "size": 16
          },
          "showarrow": false,
          "text": "EarnFrequency",
          "x": 0.5,
          "xanchor": "center",
          "xref": "paper",
          "y": 1,
          "yanchor": "bottom",
          "yref": "paper"
         },
         {
          "font": {
           "size": 16
          },
          "showarrow": false,
          "text": "UniqueSources",
          "x": 0.8555555555555556,
          "xanchor": "center",
          "xref": "paper",
          "y": 1,
          "yanchor": "bottom",
          "yref": "paper"
         }
        ],
        "height": 400,
        "showlegend": false,
        "template": {
         "data": {
          "bar": [
           {
            "error_x": {
             "color": "#2a3f5f"
            },
            "error_y": {
             "color": "#2a3f5f"
            },
            "marker": {
             "line": {
              "color": "#E5ECF6",
              "width": 0.5
             },
             "pattern": {
              "fillmode": "overlay",
              "size": 10,
              "solidity": 0.2
             }
            },
            "type": "bar"
           }
          ],
          "barpolar": [
           {
            "marker": {
             "line": {
              "color": "#E5ECF6",
              "width": 0.5
             },
             "pattern": {
              "fillmode": "overlay",
              "size": 10,
              "solidity": 0.2
             }
            },
            "type": "barpolar"
           }
          ],
          "carpet": [
           {
            "aaxis": {
             "endlinecolor": "#2a3f5f",
             "gridcolor": "white",
             "linecolor": "white",
             "minorgridcolor": "white",
             "startlinecolor": "#2a3f5f"
            },
            "baxis": {
             "endlinecolor": "#2a3f5f",
             "gridcolor": "white",
             "linecolor": "white",
             "minorgridcolor": "white",
             "startlinecolor": "#2a3f5f"
            },
            "type": "carpet"
           }
          ],
          "choropleth": [
           {
            "colorbar": {
             "outlinewidth": 0,
             "ticks": ""
            },
            "type": "choropleth"
           }
          ],
          "contour": [
           {
            "colorbar": {
             "outlinewidth": 0,
             "ticks": ""
            },
            "colorscale": [
             [
              0,
              "#0d0887"
             ],
             [
              0.1111111111111111,
              "#46039f"
             ],
             [
              0.2222222222222222,
              "#7201a8"
             ],
             [
              0.3333333333333333,
              "#9c179e"
             ],
             [
              0.4444444444444444,
              "#bd3786"
             ],
             [
              0.5555555555555556,
              "#d8576b"
             ],
             [
              0.6666666666666666,
              "#ed7953"
             ],
             [
              0.7777777777777778,
              "#fb9f3a"
             ],
             [
              0.8888888888888888,
              "#fdca26"
             ],
             [
              1,
              "#f0f921"
             ]
            ],
            "type": "contour"
           }
          ],
          "contourcarpet": [
           {
            "colorbar": {
             "outlinewidth": 0,
             "ticks": ""
            },
            "type": "contourcarpet"
           }
          ],
          "heatmap": [
           {
            "colorbar": {
             "outlinewidth": 0,
             "ticks": ""
            },
            "colorscale": [
             [
              0,
              "#0d0887"
             ],
             [
              0.1111111111111111,
              "#46039f"
             ],
             [
              0.2222222222222222,
              "#7201a8"
             ],
             [
              0.3333333333333333,
              "#9c179e"
             ],
             [
              0.4444444444444444,
              "#bd3786"
             ],
             [
              0.5555555555555556,
              "#d8576b"
             ],
             [
              0.6666666666666666,
              "#ed7953"
             ],
             [
              0.7777777777777778,
              "#fb9f3a"
             ],
             [
              0.8888888888888888,
              "#fdca26"
             ],
             [
              1,
              "#f0f921"
             ]
            ],
            "type": "heatmap"
           }
          ],
          "heatmapgl": [
           {
            "colorbar": {
             "outlinewidth": 0,
             "ticks": ""
            },
            "colorscale": [
             [
              0,
              "#0d0887"
             ],
             [
              0.1111111111111111,
              "#46039f"
             ],
             [
              0.2222222222222222,
              "#7201a8"
             ],
             [
              0.3333333333333333,
              "#9c179e"
             ],
             [
              0.4444444444444444,
              "#bd3786"
             ],
             [
              0.5555555555555556,
              "#d8576b"
             ],
             [
              0.6666666666666666,
              "#ed7953"
             ],
             [
              0.7777777777777778,
              "#fb9f3a"
             ],
             [
              0.8888888888888888,
              "#fdca26"
             ],
             [
              1,
              "#f0f921"
             ]
            ],
            "type": "heatmapgl"
           }
          ],
          "histogram": [
           {
            "marker": {
             "pattern": {
              "fillmode": "overlay",
              "size": 10,
              "solidity": 0.2
             }
            },
            "type": "histogram"
           }
          ],
          "histogram2d": [
           {
            "colorbar": {
             "outlinewidth": 0,
             "ticks": ""
            },
            "colorscale": [
             [
              0,
              "#0d0887"
             ],
             [
              0.1111111111111111,
              "#46039f"
             ],
             [
              0.2222222222222222,
              "#7201a8"
             ],
             [
              0.3333333333333333,
              "#9c179e"
             ],
             [
              0.4444444444444444,
              "#bd3786"
             ],
             [
              0.5555555555555556,
              "#d8576b"
             ],
             [
              0.6666666666666666,
              "#ed7953"
             ],
             [
              0.7777777777777778,
              "#fb9f3a"
             ],
             [
              0.8888888888888888,
              "#fdca26"
             ],
             [
              1,
              "#f0f921"
             ]
            ],
            "type": "histogram2d"
           }
          ],
          "histogram2dcontour": [
           {
            "colorbar": {
             "outlinewidth": 0,
             "ticks": ""
            },
            "colorscale": [
             [
              0,
              "#0d0887"
             ],
             [
              0.1111111111111111,
              "#46039f"
             ],
             [
              0.2222222222222222,
              "#7201a8"
             ],
             [
              0.3333333333333333,
              "#9c179e"
             ],
             [
              0.4444444444444444,
              "#bd3786"
             ],
             [
              0.5555555555555556,
              "#d8576b"
             ],
             [
              0.6666666666666666,
              "#ed7953"
             ],
             [
              0.7777777777777778,
              "#fb9f3a"
             ],
             [
              0.8888888888888888,
              "#fdca26"
             ],
             [
              1,
              "#f0f921"
             ]
            ],
            "type": "histogram2dcontour"
           }
          ],
          "mesh3d": [
           {
            "colorbar": {
             "outlinewidth": 0,
             "ticks": ""
            },
            "type": "mesh3d"
           }
          ],
          "parcoords": [
           {
            "line": {
             "colorbar": {
              "outlinewidth": 0,
              "ticks": ""
             }
            },
            "type": "parcoords"
           }
          ],
          "pie": [
           {
            "automargin": true,
            "type": "pie"
           }
          ],
          "scatter": [
           {
            "fillpattern": {
             "fillmode": "overlay",
             "size": 10,
             "solidity": 0.2
            },
            "type": "scatter"
           }
          ],
          "scatter3d": [
           {
            "line": {
             "colorbar": {
              "outlinewidth": 0,
              "ticks": ""
             }
            },
            "marker": {
             "colorbar": {
              "outlinewidth": 0,
              "ticks": ""
             }
            },
            "type": "scatter3d"
           }
          ],
          "scattercarpet": [
           {
            "marker": {
             "colorbar": {
              "outlinewidth": 0,
              "ticks": ""
             }
            },
            "type": "scattercarpet"
           }
          ],
          "scattergeo": [
           {
            "marker": {
             "colorbar": {
              "outlinewidth": 0,
              "ticks": ""
             }
            },
            "type": "scattergeo"
           }
          ],
          "scattergl": [
           {
            "marker": {
             "colorbar": {
              "outlinewidth": 0,
              "ticks": ""
             }
            },
            "type": "scattergl"
           }
          ],
          "scattermapbox": [
           {
            "marker": {
             "colorbar": {
              "outlinewidth": 0,
              "ticks": ""
             }
            },
            "type": "scattermapbox"
           }
          ],
          "scatterpolar": [
           {
            "marker": {
             "colorbar": {
              "outlinewidth": 0,
              "ticks": ""
             }
            },
            "type": "scatterpolar"
           }
          ],
          "scatterpolargl": [
           {
            "marker": {
             "colorbar": {
              "outlinewidth": 0,
              "ticks": ""
             }
            },
            "type": "scatterpolargl"
           }
          ],
          "scatterternary": [
           {
            "marker": {
             "colorbar": {
              "outlinewidth": 0,
              "ticks": ""
             }
            },
            "type": "scatterternary"
           }
          ],
          "surface": [
           {
            "colorbar": {
             "outlinewidth": 0,
             "ticks": ""
            },
            "colorscale": [
             [
              0,
              "#0d0887"
             ],
             [
              0.1111111111111111,
              "#46039f"
             ],
             [
              0.2222222222222222,
              "#7201a8"
             ],
             [
              0.3333333333333333,
              "#9c179e"
             ],
             [
              0.4444444444444444,
              "#bd3786"
             ],
             [
              0.5555555555555556,
              "#d8576b"
             ],
             [
              0.6666666666666666,
              "#ed7953"
             ],
             [
              0.7777777777777778,
              "#fb9f3a"
             ],
             [
              0.8888888888888888,
              "#fdca26"
             ],
             [
              1,
              "#f0f921"
             ]
            ],
            "type": "surface"
           }
          ],
          "table": [
           {
            "cells": {
             "fill": {
              "color": "#EBF0F8"
             },
             "line": {
              "color": "white"
             }
            },
            "header": {
             "fill": {
              "color": "#C8D4E3"
             },
             "line": {
              "color": "white"
             }
            },
            "type": "table"
           }
          ]
         },
         "layout": {
          "annotationdefaults": {
           "arrowcolor": "#2a3f5f",
           "arrowhead": 0,
           "arrowwidth": 1
          },
          "autotypenumbers": "strict",
          "coloraxis": {
           "colorbar": {
            "outlinewidth": 0,
            "ticks": ""
           }
          },
          "colorscale": {
           "diverging": [
            [
             0,
             "#8e0152"
            ],
            [
             0.1,
             "#c51b7d"
            ],
            [
             0.2,
             "#de77ae"
            ],
            [
             0.3,
             "#f1b6da"
            ],
            [
             0.4,
             "#fde0ef"
            ],
            [
             0.5,
             "#f7f7f7"
            ],
            [
             0.6,
             "#e6f5d0"
            ],
            [
             0.7,
             "#b8e186"
            ],
            [
             0.8,
             "#7fbc41"
            ],
            [
             0.9,
             "#4d9221"
            ],
            [
             1,
             "#276419"
            ]
           ],
           "sequential": [
            [
             0,
             "#0d0887"
            ],
            [
             0.1111111111111111,
             "#46039f"
            ],
            [
             0.2222222222222222,
             "#7201a8"
            ],
            [
             0.3333333333333333,
             "#9c179e"
            ],
            [
             0.4444444444444444,
             "#bd3786"
            ],
            [
             0.5555555555555556,
             "#d8576b"
            ],
            [
             0.6666666666666666,
             "#ed7953"
            ],
            [
             0.7777777777777778,
             "#fb9f3a"
            ],
            [
             0.8888888888888888,
             "#fdca26"
            ],
            [
             1,
             "#f0f921"
            ]
           ],
           "sequentialminus": [
            [
             0,
             "#0d0887"
            ],
            [
             0.1111111111111111,
             "#46039f"
            ],
            [
             0.2222222222222222,
             "#7201a8"
            ],
            [
             0.3333333333333333,
             "#9c179e"
            ],
            [
             0.4444444444444444,
             "#bd3786"
            ],
            [
             0.5555555555555556,
             "#d8576b"
            ],
            [
             0.6666666666666666,
             "#ed7953"
            ],
            [
             0.7777777777777778,
             "#fb9f3a"
            ],
            [
             0.8888888888888888,
             "#fdca26"
            ],
            [
             1,
             "#f0f921"
            ]
           ]
          },
          "colorway": [
           "#636efa",
           "#EF553B",
           "#00cc96",
           "#ab63fa",
           "#FFA15A",
           "#19d3f3",
           "#FF6692",
           "#B6E880",
           "#FF97FF",
           "#FECB52"
          ],
          "font": {
           "color": "#2a3f5f"
          },
          "geo": {
           "bgcolor": "white",
           "lakecolor": "white",
           "landcolor": "#E5ECF6",
           "showlakes": true,
           "showland": true,
           "subunitcolor": "white"
          },
          "hoverlabel": {
           "align": "left"
          },
          "hovermode": "closest",
          "mapbox": {
           "style": "light"
          },
          "paper_bgcolor": "white",
          "plot_bgcolor": "#E5ECF6",
          "polar": {
           "angularaxis": {
            "gridcolor": "white",
            "linecolor": "white",
            "ticks": ""
           },
           "bgcolor": "#E5ECF6",
           "radialaxis": {
            "gridcolor": "white",
            "linecolor": "white",
            "ticks": ""
           }
          },
          "scene": {
           "xaxis": {
            "backgroundcolor": "#E5ECF6",
            "gridcolor": "white",
            "gridwidth": 2,
            "linecolor": "white",
            "showbackground": true,
            "ticks": "",
            "zerolinecolor": "white"
           },
           "yaxis": {
            "backgroundcolor": "#E5ECF6",
            "gridcolor": "white",
            "gridwidth": 2,
            "linecolor": "white",
            "showbackground": true,
            "ticks": "",
            "zerolinecolor": "white"
           },
           "zaxis": {
            "backgroundcolor": "#E5ECF6",
            "gridcolor": "white",
            "gridwidth": 2,
            "linecolor": "white",
            "showbackground": true,
            "ticks": "",
            "zerolinecolor": "white"
           }
          },
          "shapedefaults": {
           "line": {
            "color": "#2a3f5f"
           }
          },
          "ternary": {
           "aaxis": {
            "gridcolor": "white",
            "linecolor": "white",
            "ticks": ""
           },
           "baxis": {
            "gridcolor": "white",
            "linecolor": "white",
            "ticks": ""
           },
           "bgcolor": "#E5ECF6",
           "caxis": {
            "gridcolor": "white",
            "linecolor": "white",
            "ticks": ""
           }
          },
          "title": {
           "x": 0.05
          },
          "xaxis": {
           "automargin": true,
           "gridcolor": "white",
           "linecolor": "white",
           "ticks": "",
           "title": {
            "standoff": 15
           },
           "zerolinecolor": "white",
           "zerolinewidth": 2
          },
          "yaxis": {
           "automargin": true,
           "gridcolor": "white",
           "linecolor": "white",
           "ticks": "",
           "title": {
            "standoff": 15
           },
           "zerolinecolor": "white",
           "zerolinewidth": 2
          }
         }
        },
        "title": {
         "text": "Cluster Analysis of Key Metrics"
        },
        "width": 1200,
        "xaxis": {
         "anchor": "y",
         "domain": [
          0,
          0.2888888888888889
         ]
        },
        "xaxis2": {
         "anchor": "y2",
         "domain": [
          0.35555555555555557,
          0.6444444444444445
         ]
        },
        "xaxis3": {
         "anchor": "y3",
         "domain": [
          0.7111111111111111,
          1
         ]
        },
        "yaxis": {
         "anchor": "x",
         "domain": [
          0,
          1
         ]
        },
        "yaxis2": {
         "anchor": "x2",
         "domain": [
          0,
          1
         ],
         "matches": "y",
         "showticklabels": false
        },
        "yaxis3": {
         "anchor": "x3",
         "domain": [
          0,
          1
         ],
         "matches": "y",
         "showticklabels": false
        }
       }
      }
     },
     "metadata": {},
     "output_type": "display_data"
    }
   ],
   "source": [
    "from plotly.subplots import make_subplots\n",
    "\n",
    "# Create subplots (3 columns)\n",
    "fig = make_subplots(\n",
    "    rows=1, cols=3,\n",
    "    subplot_titles=['TotalCurrencyEarned', 'EarnFrequency', 'UniqueSources'],\n",
    "    # shared_yaxes=True  # To make y-axes consistent across all plots\n",
    ")\n",
    "\n",
    "# Add bar plots for each metric\n",
    "fig.add_trace(\n",
    "    go.Bar(x=cluster_analysis['Cluster'], y=cluster_analysis['TotalCurrencyEarned'], name='TotalCurrencyEarned'),\n",
    "    row=1, col=1\n",
    ")\n",
    "\n",
    "fig.add_trace(\n",
    "    go.Bar(x=cluster_analysis['Cluster'], y=cluster_analysis['EarnFrequency'], name='EarnFrequency'),\n",
    "    row=1, col=2\n",
    ")\n",
    "\n",
    "fig.add_trace(\n",
    "    go.Bar(x=cluster_analysis['Cluster'], y=cluster_analysis['UniqueSources'], name='UniqueSources'),\n",
    "    row=1, col=3\n",
    ")\n",
    "\n",
    "# Update layout\n",
    "fig.update_layout(\n",
    "    title='Cluster Analysis of Key Metrics',\n",
    "    showlegend=False,\n",
    "    height=400,\n",
    "    width=1200\n",
    ")\n",
    "\n",
    "fig.show()"
   ]
  },
  {
   "cell_type": "markdown",
   "metadata": {},
   "source": [
    "# Gaussian Mixture and DBI Score"
   ]
  },
  {
   "cell_type": "code",
   "execution_count": 18,
   "metadata": {},
   "outputs": [],
   "source": [
    "component_range = range(1, 11)\n",
    "dbi_scores = []\n",
    "\n",
    "for n_components in component_range:\n",
    "    gmm = GaussianMixture(n_components=n_components, random_state=42)\n",
    "    gmm.fit(features_scaled)\n",
    "    labels = gmm.predict(features_scaled)\n",
    "    \n",
    "    # Skip DBI for single cluster (n_components=1)\n",
    "    if n_components > 1:\n",
    "        dbi = davies_bouldin_score(features_scaled, labels)\n",
    "        dbi_scores.append((n_components, dbi))\n",
    "    else:\n",
    "        dbi_scores.append((n_components, None))"
   ]
  },
  {
   "cell_type": "code",
   "execution_count": 20,
   "metadata": {},
   "outputs": [
    {
     "data": {
      "application/vnd.plotly.v1+json": {
       "config": {
        "plotlyServerURL": "https://plot.ly"
       },
       "data": [
        {
         "line": {
          "color": "blue",
          "width": 2
         },
         "marker": {
          "color": "blue",
          "size": 8
         },
         "mode": "lines+markers",
         "name": "DBI Score",
         "type": "scatter",
         "x": [
          2,
          3,
          4,
          5,
          6,
          7,
          8,
          9,
          10
         ],
         "y": [
          0.4294026661838966,
          0.9250249971741051,
          1.1161493600781296,
          1.536859923120702,
          1.4028943112209014,
          1.300041200096718,
          1.1898215830193457,
          1.1050654629866046,
          1.0121968125041492
         ]
        }
       ],
       "layout": {
        "height": 500,
        "template": {
         "data": {
          "bar": [
           {
            "error_x": {
             "color": "#2a3f5f"
            },
            "error_y": {
             "color": "#2a3f5f"
            },
            "marker": {
             "line": {
              "color": "white",
              "width": 0.5
             },
             "pattern": {
              "fillmode": "overlay",
              "size": 10,
              "solidity": 0.2
             }
            },
            "type": "bar"
           }
          ],
          "barpolar": [
           {
            "marker": {
             "line": {
              "color": "white",
              "width": 0.5
             },
             "pattern": {
              "fillmode": "overlay",
              "size": 10,
              "solidity": 0.2
             }
            },
            "type": "barpolar"
           }
          ],
          "carpet": [
           {
            "aaxis": {
             "endlinecolor": "#2a3f5f",
             "gridcolor": "#C8D4E3",
             "linecolor": "#C8D4E3",
             "minorgridcolor": "#C8D4E3",
             "startlinecolor": "#2a3f5f"
            },
            "baxis": {
             "endlinecolor": "#2a3f5f",
             "gridcolor": "#C8D4E3",
             "linecolor": "#C8D4E3",
             "minorgridcolor": "#C8D4E3",
             "startlinecolor": "#2a3f5f"
            },
            "type": "carpet"
           }
          ],
          "choropleth": [
           {
            "colorbar": {
             "outlinewidth": 0,
             "ticks": ""
            },
            "type": "choropleth"
           }
          ],
          "contour": [
           {
            "colorbar": {
             "outlinewidth": 0,
             "ticks": ""
            },
            "colorscale": [
             [
              0,
              "#0d0887"
             ],
             [
              0.1111111111111111,
              "#46039f"
             ],
             [
              0.2222222222222222,
              "#7201a8"
             ],
             [
              0.3333333333333333,
              "#9c179e"
             ],
             [
              0.4444444444444444,
              "#bd3786"
             ],
             [
              0.5555555555555556,
              "#d8576b"
             ],
             [
              0.6666666666666666,
              "#ed7953"
             ],
             [
              0.7777777777777778,
              "#fb9f3a"
             ],
             [
              0.8888888888888888,
              "#fdca26"
             ],
             [
              1,
              "#f0f921"
             ]
            ],
            "type": "contour"
           }
          ],
          "contourcarpet": [
           {
            "colorbar": {
             "outlinewidth": 0,
             "ticks": ""
            },
            "type": "contourcarpet"
           }
          ],
          "heatmap": [
           {
            "colorbar": {
             "outlinewidth": 0,
             "ticks": ""
            },
            "colorscale": [
             [
              0,
              "#0d0887"
             ],
             [
              0.1111111111111111,
              "#46039f"
             ],
             [
              0.2222222222222222,
              "#7201a8"
             ],
             [
              0.3333333333333333,
              "#9c179e"
             ],
             [
              0.4444444444444444,
              "#bd3786"
             ],
             [
              0.5555555555555556,
              "#d8576b"
             ],
             [
              0.6666666666666666,
              "#ed7953"
             ],
             [
              0.7777777777777778,
              "#fb9f3a"
             ],
             [
              0.8888888888888888,
              "#fdca26"
             ],
             [
              1,
              "#f0f921"
             ]
            ],
            "type": "heatmap"
           }
          ],
          "heatmapgl": [
           {
            "colorbar": {
             "outlinewidth": 0,
             "ticks": ""
            },
            "colorscale": [
             [
              0,
              "#0d0887"
             ],
             [
              0.1111111111111111,
              "#46039f"
             ],
             [
              0.2222222222222222,
              "#7201a8"
             ],
             [
              0.3333333333333333,
              "#9c179e"
             ],
             [
              0.4444444444444444,
              "#bd3786"
             ],
             [
              0.5555555555555556,
              "#d8576b"
             ],
             [
              0.6666666666666666,
              "#ed7953"
             ],
             [
              0.7777777777777778,
              "#fb9f3a"
             ],
             [
              0.8888888888888888,
              "#fdca26"
             ],
             [
              1,
              "#f0f921"
             ]
            ],
            "type": "heatmapgl"
           }
          ],
          "histogram": [
           {
            "marker": {
             "pattern": {
              "fillmode": "overlay",
              "size": 10,
              "solidity": 0.2
             }
            },
            "type": "histogram"
           }
          ],
          "histogram2d": [
           {
            "colorbar": {
             "outlinewidth": 0,
             "ticks": ""
            },
            "colorscale": [
             [
              0,
              "#0d0887"
             ],
             [
              0.1111111111111111,
              "#46039f"
             ],
             [
              0.2222222222222222,
              "#7201a8"
             ],
             [
              0.3333333333333333,
              "#9c179e"
             ],
             [
              0.4444444444444444,
              "#bd3786"
             ],
             [
              0.5555555555555556,
              "#d8576b"
             ],
             [
              0.6666666666666666,
              "#ed7953"
             ],
             [
              0.7777777777777778,
              "#fb9f3a"
             ],
             [
              0.8888888888888888,
              "#fdca26"
             ],
             [
              1,
              "#f0f921"
             ]
            ],
            "type": "histogram2d"
           }
          ],
          "histogram2dcontour": [
           {
            "colorbar": {
             "outlinewidth": 0,
             "ticks": ""
            },
            "colorscale": [
             [
              0,
              "#0d0887"
             ],
             [
              0.1111111111111111,
              "#46039f"
             ],
             [
              0.2222222222222222,
              "#7201a8"
             ],
             [
              0.3333333333333333,
              "#9c179e"
             ],
             [
              0.4444444444444444,
              "#bd3786"
             ],
             [
              0.5555555555555556,
              "#d8576b"
             ],
             [
              0.6666666666666666,
              "#ed7953"
             ],
             [
              0.7777777777777778,
              "#fb9f3a"
             ],
             [
              0.8888888888888888,
              "#fdca26"
             ],
             [
              1,
              "#f0f921"
             ]
            ],
            "type": "histogram2dcontour"
           }
          ],
          "mesh3d": [
           {
            "colorbar": {
             "outlinewidth": 0,
             "ticks": ""
            },
            "type": "mesh3d"
           }
          ],
          "parcoords": [
           {
            "line": {
             "colorbar": {
              "outlinewidth": 0,
              "ticks": ""
             }
            },
            "type": "parcoords"
           }
          ],
          "pie": [
           {
            "automargin": true,
            "type": "pie"
           }
          ],
          "scatter": [
           {
            "fillpattern": {
             "fillmode": "overlay",
             "size": 10,
             "solidity": 0.2
            },
            "type": "scatter"
           }
          ],
          "scatter3d": [
           {
            "line": {
             "colorbar": {
              "outlinewidth": 0,
              "ticks": ""
             }
            },
            "marker": {
             "colorbar": {
              "outlinewidth": 0,
              "ticks": ""
             }
            },
            "type": "scatter3d"
           }
          ],
          "scattercarpet": [
           {
            "marker": {
             "colorbar": {
              "outlinewidth": 0,
              "ticks": ""
             }
            },
            "type": "scattercarpet"
           }
          ],
          "scattergeo": [
           {
            "marker": {
             "colorbar": {
              "outlinewidth": 0,
              "ticks": ""
             }
            },
            "type": "scattergeo"
           }
          ],
          "scattergl": [
           {
            "marker": {
             "colorbar": {
              "outlinewidth": 0,
              "ticks": ""
             }
            },
            "type": "scattergl"
           }
          ],
          "scattermapbox": [
           {
            "marker": {
             "colorbar": {
              "outlinewidth": 0,
              "ticks": ""
             }
            },
            "type": "scattermapbox"
           }
          ],
          "scatterpolar": [
           {
            "marker": {
             "colorbar": {
              "outlinewidth": 0,
              "ticks": ""
             }
            },
            "type": "scatterpolar"
           }
          ],
          "scatterpolargl": [
           {
            "marker": {
             "colorbar": {
              "outlinewidth": 0,
              "ticks": ""
             }
            },
            "type": "scatterpolargl"
           }
          ],
          "scatterternary": [
           {
            "marker": {
             "colorbar": {
              "outlinewidth": 0,
              "ticks": ""
             }
            },
            "type": "scatterternary"
           }
          ],
          "surface": [
           {
            "colorbar": {
             "outlinewidth": 0,
             "ticks": ""
            },
            "colorscale": [
             [
              0,
              "#0d0887"
             ],
             [
              0.1111111111111111,
              "#46039f"
             ],
             [
              0.2222222222222222,
              "#7201a8"
             ],
             [
              0.3333333333333333,
              "#9c179e"
             ],
             [
              0.4444444444444444,
              "#bd3786"
             ],
             [
              0.5555555555555556,
              "#d8576b"
             ],
             [
              0.6666666666666666,
              "#ed7953"
             ],
             [
              0.7777777777777778,
              "#fb9f3a"
             ],
             [
              0.8888888888888888,
              "#fdca26"
             ],
             [
              1,
              "#f0f921"
             ]
            ],
            "type": "surface"
           }
          ],
          "table": [
           {
            "cells": {
             "fill": {
              "color": "#EBF0F8"
             },
             "line": {
              "color": "white"
             }
            },
            "header": {
             "fill": {
              "color": "#C8D4E3"
             },
             "line": {
              "color": "white"
             }
            },
            "type": "table"
           }
          ]
         },
         "layout": {
          "annotationdefaults": {
           "arrowcolor": "#2a3f5f",
           "arrowhead": 0,
           "arrowwidth": 1
          },
          "autotypenumbers": "strict",
          "coloraxis": {
           "colorbar": {
            "outlinewidth": 0,
            "ticks": ""
           }
          },
          "colorscale": {
           "diverging": [
            [
             0,
             "#8e0152"
            ],
            [
             0.1,
             "#c51b7d"
            ],
            [
             0.2,
             "#de77ae"
            ],
            [
             0.3,
             "#f1b6da"
            ],
            [
             0.4,
             "#fde0ef"
            ],
            [
             0.5,
             "#f7f7f7"
            ],
            [
             0.6,
             "#e6f5d0"
            ],
            [
             0.7,
             "#b8e186"
            ],
            [
             0.8,
             "#7fbc41"
            ],
            [
             0.9,
             "#4d9221"
            ],
            [
             1,
             "#276419"
            ]
           ],
           "sequential": [
            [
             0,
             "#0d0887"
            ],
            [
             0.1111111111111111,
             "#46039f"
            ],
            [
             0.2222222222222222,
             "#7201a8"
            ],
            [
             0.3333333333333333,
             "#9c179e"
            ],
            [
             0.4444444444444444,
             "#bd3786"
            ],
            [
             0.5555555555555556,
             "#d8576b"
            ],
            [
             0.6666666666666666,
             "#ed7953"
            ],
            [
             0.7777777777777778,
             "#fb9f3a"
            ],
            [
             0.8888888888888888,
             "#fdca26"
            ],
            [
             1,
             "#f0f921"
            ]
           ],
           "sequentialminus": [
            [
             0,
             "#0d0887"
            ],
            [
             0.1111111111111111,
             "#46039f"
            ],
            [
             0.2222222222222222,
             "#7201a8"
            ],
            [
             0.3333333333333333,
             "#9c179e"
            ],
            [
             0.4444444444444444,
             "#bd3786"
            ],
            [
             0.5555555555555556,
             "#d8576b"
            ],
            [
             0.6666666666666666,
             "#ed7953"
            ],
            [
             0.7777777777777778,
             "#fb9f3a"
            ],
            [
             0.8888888888888888,
             "#fdca26"
            ],
            [
             1,
             "#f0f921"
            ]
           ]
          },
          "colorway": [
           "#636efa",
           "#EF553B",
           "#00cc96",
           "#ab63fa",
           "#FFA15A",
           "#19d3f3",
           "#FF6692",
           "#B6E880",
           "#FF97FF",
           "#FECB52"
          ],
          "font": {
           "color": "#2a3f5f"
          },
          "geo": {
           "bgcolor": "white",
           "lakecolor": "white",
           "landcolor": "white",
           "showlakes": true,
           "showland": true,
           "subunitcolor": "#C8D4E3"
          },
          "hoverlabel": {
           "align": "left"
          },
          "hovermode": "closest",
          "mapbox": {
           "style": "light"
          },
          "paper_bgcolor": "white",
          "plot_bgcolor": "white",
          "polar": {
           "angularaxis": {
            "gridcolor": "#EBF0F8",
            "linecolor": "#EBF0F8",
            "ticks": ""
           },
           "bgcolor": "white",
           "radialaxis": {
            "gridcolor": "#EBF0F8",
            "linecolor": "#EBF0F8",
            "ticks": ""
           }
          },
          "scene": {
           "xaxis": {
            "backgroundcolor": "white",
            "gridcolor": "#DFE8F3",
            "gridwidth": 2,
            "linecolor": "#EBF0F8",
            "showbackground": true,
            "ticks": "",
            "zerolinecolor": "#EBF0F8"
           },
           "yaxis": {
            "backgroundcolor": "white",
            "gridcolor": "#DFE8F3",
            "gridwidth": 2,
            "linecolor": "#EBF0F8",
            "showbackground": true,
            "ticks": "",
            "zerolinecolor": "#EBF0F8"
           },
           "zaxis": {
            "backgroundcolor": "white",
            "gridcolor": "#DFE8F3",
            "gridwidth": 2,
            "linecolor": "#EBF0F8",
            "showbackground": true,
            "ticks": "",
            "zerolinecolor": "#EBF0F8"
           }
          },
          "shapedefaults": {
           "line": {
            "color": "#2a3f5f"
           }
          },
          "ternary": {
           "aaxis": {
            "gridcolor": "#DFE8F3",
            "linecolor": "#A2B1C6",
            "ticks": ""
           },
           "baxis": {
            "gridcolor": "#DFE8F3",
            "linecolor": "#A2B1C6",
            "ticks": ""
           },
           "bgcolor": "white",
           "caxis": {
            "gridcolor": "#DFE8F3",
            "linecolor": "#A2B1C6",
            "ticks": ""
           }
          },
          "title": {
           "x": 0.05
          },
          "xaxis": {
           "automargin": true,
           "gridcolor": "#EBF0F8",
           "linecolor": "#EBF0F8",
           "ticks": "",
           "title": {
            "standoff": 15
           },
           "zerolinecolor": "#EBF0F8",
           "zerolinewidth": 2
          },
          "yaxis": {
           "automargin": true,
           "gridcolor": "#EBF0F8",
           "linecolor": "#EBF0F8",
           "ticks": "",
           "title": {
            "standoff": 15
           },
           "zerolinecolor": "#EBF0F8",
           "zerolinewidth": 2
          }
         }
        },
        "title": {
         "text": "DBI Score vs. min_cluster_size"
        },
        "width": 800,
        "xaxis": {
         "title": {
          "text": "min_cluster_size"
         }
        },
        "yaxis": {
         "title": {
          "text": "DBI Score"
         }
        }
       }
      }
     },
     "metadata": {},
     "output_type": "display_data"
    }
   ],
   "source": [
    "# Create the line plot using Plotly\n",
    "fig = go.Figure()\n",
    "\n",
    "# Extract valid scores for plotting\n",
    "valid_components = [n for n, dbi in dbi_scores if dbi is not None]\n",
    "valid_dbi = [dbi for n, dbi in dbi_scores if dbi is not None]\n",
    "\n",
    "\n",
    "fig.add_trace(go.Scatter(\n",
    "    x=valid_components,\n",
    "    y=valid_dbi,\n",
    "    mode='lines+markers',\n",
    "    marker=dict(size=8, color='blue'),\n",
    "    line=dict(width=2, color='blue'),\n",
    "    name='DBI Score'\n",
    "))\n",
    "\n",
    "# Add titles and axis labels\n",
    "fig.update_layout(\n",
    "    title=\"DBI Score vs. min_cluster_size\",\n",
    "    xaxis=dict(title=\"min_cluster_size\"),\n",
    "    yaxis=dict(title=\"DBI Score\"),\n",
    "    template=\"plotly_white\",\n",
    "    width=800,\n",
    "    height=500\n",
    ")\n",
    "\n",
    "# Show the Plotly plot\n",
    "fig.show()"
   ]
  },
  {
   "cell_type": "code",
   "execution_count": 23,
   "metadata": {},
   "outputs": [
    {
     "name": "stdout",
     "output_type": "stream",
     "text": [
      "Best min_cluster_size: 10 with DBI score: 0.2657884507754396\n"
     ]
    }
   ],
   "source": [
    "# Range of min_cluster_size to test\n",
    "min_cluster_sizes = range(2, 15, 1)\n",
    "\n",
    "# To store DBI scores for each min_cluster_size\n",
    "dbi_scores = []\n",
    "\n",
    "for size in min_cluster_sizes:\n",
    "    clusterer = hdbscan.HDBSCAN(min_cluster_size=size, metric='euclidean')\n",
    "    labels = clusterer.fit_predict(features_scaled)\n",
    "    \n",
    "    # Compute DBI only if meaningful clusters exist\n",
    "    if len(set(labels)) > 1 and -1 in labels:  # Ensure there are both noise and clusters\n",
    "        score = davies_bouldin_score(features_scaled[labels != -1], labels[labels != -1])\n",
    "        dbi_scores.append((size, score))\n",
    "    else:\n",
    "        dbi_scores.append((size, None))\n",
    "\n",
    "# Extract valid scores for plotting\n",
    "valid_sizes = [size for size, score in dbi_scores if score is not None]\n",
    "valid_dbi_scores = [score for size, score in dbi_scores if score is not None]\n",
    "\n",
    "# Find the best min_cluster_size based on DBI\n",
    "best_size = valid_sizes[np.argmin(valid_dbi_scores)]\n",
    "best_score = min(valid_dbi_scores)\n",
    "\n",
    "print(f\"Best min_cluster_size: {best_size} with DBI score: {best_score}\")"
   ]
  }
 ],
 "metadata": {
  "kernelspec": {
   "display_name": ".venv",
   "language": "python",
   "name": "python3"
  },
  "language_info": {
   "codemirror_mode": {
    "name": "ipython",
    "version": 3
   },
   "file_extension": ".py",
   "mimetype": "text/x-python",
   "name": "python",
   "nbconvert_exporter": "python",
   "pygments_lexer": "ipython3",
   "version": "3.11.1"
  }
 },
 "nbformat": 4,
 "nbformat_minor": 2
}
